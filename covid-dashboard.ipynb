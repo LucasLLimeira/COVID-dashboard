{
 "cells": [
  {
   "cell_type": "markdown",
   "id": "6efdb005",
   "metadata": {
    "id": "KJqp9AANOCtf",
    "papermill": {
     "duration": 0.016237,
     "end_time": "2023-11-22T03:23:13.241290",
     "exception": false,
     "start_time": "2023-11-22T03:23:13.225053",
     "status": "completed"
    },
    "tags": []
   },
   "source": [
    "<img src=\"https://raw.githubusercontent.com/andre-marcos-perez/ebac-course-utils/main/media/logo/newebac_logo_black_half.png\" alt=\"ebac-logo\">\n",
    "\n",
    "---\n",
    "\n",
    "# Análise de Dados: COVID-19 Dashboard\n",
    "<br>\n",
    "\n",
    "\n",
    "---"
   ]
  },
  {
   "cell_type": "markdown",
   "id": "f7693e85",
   "metadata": {
    "id": "d9jDtUbDOE1-",
    "papermill": {
     "duration": 0.015498,
     "end_time": "2023-11-22T03:23:13.272700",
     "exception": false,
     "start_time": "2023-11-22T03:23:13.257202",
     "status": "completed"
    },
    "tags": []
   },
   "source": [
    "# **Tópicos**\n",
    "\n",
    "<ol type=\"1\">\n",
    "  <li>Introdução;</li>\n",
    "  <li>Análise Exploratória de Dados;</li>\n",
    "  <li>Visualização Interativa de Dados;</li>\n",
    "  <li>Storytelling.</li>\n",
    "</ol>"
   ]
  },
  {
   "cell_type": "markdown",
   "id": "e028bd09",
   "metadata": {
    "id": "SmoHgt-lwkpD",
    "papermill": {
     "duration": 0.015794,
     "end_time": "2023-11-22T03:23:13.304219",
     "exception": false,
     "start_time": "2023-11-22T03:23:13.288425",
     "status": "completed"
    },
    "tags": []
   },
   "source": [
    "---"
   ]
  },
  {
   "cell_type": "markdown",
   "id": "64e89e46",
   "metadata": {
    "id": "muD1vxozykSC",
    "papermill": {
     "duration": 0.015363,
     "end_time": "2023-11-22T03:23:13.335150",
     "exception": false,
     "start_time": "2023-11-22T03:23:13.319787",
     "status": "completed"
    },
    "tags": []
   },
   "source": [
    "## 1\\. Introdução"
   ]
  },
  {
   "cell_type": "markdown",
   "id": "c551a7b7",
   "metadata": {
    "id": "MHESfVrl-rPV",
    "papermill": {
     "duration": 0.015309,
     "end_time": "2023-11-22T03:23:13.366063",
     "exception": false,
     "start_time": "2023-11-22T03:23:13.350754",
     "status": "completed"
    },
    "tags": []
   },
   "source": [
    "### **1.1. TLDR**"
   ]
  },
  {
   "cell_type": "markdown",
   "id": "e11e75f6",
   "metadata": {
    "id": "Kbt89uW55ynj",
    "papermill": {
     "duration": 0.015266,
     "end_time": "2023-11-22T03:23:13.397099",
     "exception": false,
     "start_time": "2023-11-22T03:23:13.381833",
     "status": "completed"
    },
    "tags": []
   },
   "source": [
    " - **Dashboard**:\n",
    "  - Google Data Studio ([link](https://lookerstudio.google.com/reporting/03d0c14f-fb54-4715-8d85-51e95159a4ab)).\n",
    " - **Processamento**:\n",
    "  - Kaggle Notebook ([link](https://www.kaggle.com/code/lucasdelucenalimeira/covid-dashboard)).\n",
    " - **Fontes**:\n",
    "  - Casos pela universidade John Hopkins ([link](https://github.com/CSSEGISandData/COVID-19/tree/master/csse_covid_19_data/csse_covid_19_daily_reports));\n",
    "  - Vacinação pela universidade de Oxford ([link](https://covid.ourworldindata.org/data/owid-covid-data.csv))."
   ]
  },
  {
   "cell_type": "markdown",
   "id": "a7e950c9",
   "metadata": {
    "id": "uBq6aQxeB4r0",
    "papermill": {
     "duration": 0.015287,
     "end_time": "2023-11-22T03:23:13.427970",
     "exception": false,
     "start_time": "2023-11-22T03:23:13.412683",
     "status": "completed"
    },
    "tags": []
   },
   "source": [
    "### **1.2. Pandemia Coronavírus 2019**"
   ]
  },
  {
   "cell_type": "markdown",
   "id": "4e5821ce",
   "metadata": {
    "id": "caKO04G0tzxc",
    "papermill": {
     "duration": 0.015301,
     "end_time": "2023-11-22T03:23:13.458735",
     "exception": false,
     "start_time": "2023-11-22T03:23:13.443434",
     "status": "completed"
    },
    "tags": []
   },
   "source": [
    "> A COVID-19 é uma infecção respiratória aguda causada pelo coronavírus SARS-CoV-2, potencialmente grave, de elevada transmissibilidade e de distribuição global. Fonte: Governo brasileiro ([link](https://www.gov.br/saude/pt-br/coronavirus/o-que-e-o-coronavirus))."
   ]
  },
  {
   "cell_type": "markdown",
   "id": "5405a121",
   "metadata": {
    "id": "UrsxlQhH7WrD",
    "papermill": {
     "duration": 0.070197,
     "end_time": "2023-11-22T03:23:13.544546",
     "exception": false,
     "start_time": "2023-11-22T03:23:13.474349",
     "status": "completed"
    },
    "tags": []
   },
   "source": [
    "A disponibilidade de dados sobre a evolução da pandemia no tempo em uma determinada região geográfica é fundamental para o seu combate! Este projeto busca construir um dashboard de dados para exploração e visualização interativa de dados sobre o avanço de casos e da vacinação do Brasil. O processamento de dados está neste `https://www.kaggle.com/lucasdelucenalimeira/covid-dashboard` e o dashboard, neste `https://lookerstudio.google.com/reporting/03d0c14f-fb54-4715-8d85-51e95159a4ab`."
   ]
  },
  {
   "cell_type": "markdown",
   "id": "b52b3818",
   "metadata": {
    "id": "oo-6n3_GH0CT",
    "papermill": {
     "duration": 0.015639,
     "end_time": "2023-11-22T03:23:13.575886",
     "exception": false,
     "start_time": "2023-11-22T03:23:13.560247",
     "status": "completed"
    },
    "tags": []
   },
   "source": [
    "### **1.3. Dados**"
   ]
  },
  {
   "cell_type": "markdown",
   "id": "60773459",
   "metadata": {
    "id": "q9Kj_d3c3Hmd",
    "papermill": {
     "duration": 0.01549,
     "end_time": "2023-11-22T03:23:13.607161",
     "exception": false,
     "start_time": "2023-11-22T03:23:13.591671",
     "status": "completed"
    },
    "tags": []
   },
   "source": [
    "Os dados sobre **casos da COVID-19** são compilados pelo centro de ciência de sistemas e engenharia da universidade americana **John Hopkins** ([link](https://www.jhu.edu)). Os dados são atualizados diariamente deste janeiro de 2020 com uma granularidade temporal de dias e geográfica de regiões de países (estados, condados, etc.). O website do projeto pode ser acessado neste [link](https://systems.jhu.edu/research/public-health/ncov/) enquanto os dados, neste [link](https://github.com/CSSEGISandData/COVID-19/tree/master/csse_covid_19_data/csse_covid_19_daily_reports). Abaixo estão descritos os dados derivados do seu processamento."
   ]
  },
  {
   "cell_type": "markdown",
   "id": "995031e8",
   "metadata": {
    "id": "7hKS37TRwvG7",
    "papermill": {
     "duration": 0.01577,
     "end_time": "2023-11-22T03:23:13.638769",
     "exception": false,
     "start_time": "2023-11-22T03:23:13.622999",
     "status": "completed"
    },
    "tags": []
   },
   "source": [
    " - **date**: data de referência;\n",
    " - **state**: estado;\n",
    " - **country**: país;\n",
    " - **population**: população estimada;\n",
    " - **confirmed**: número acumulado de infectados;\n",
    " - **confirmed_1d**: número diário de infectados;\n",
    " - **confirmed_moving_avg_7d**: média móvel de 7 dias do número diário de infectados;\n",
    " - **confirmed_moving_avg_7d_rate_14d**: média móvel de 7 dias dividido pela média móvel de 7 dias de 14 dias atrás;\n",
    " - **deaths**: número acumulado de mortos;\n",
    " - **deaths_1d**: número diário de mortos;\n",
    " - **deaths_moving_avg_7d**: média móvel de 7 dias do número diário de mortos;\n",
    " - **deaths_moving_avg_7d_rate_14d**: média móvel de 7 dias dividido pela média móvel de 7 dias de 14 dias atrás;\n",
    " - **month**: mês de referência;\n",
    " - **year**: ano de referência."
   ]
  },
  {
   "cell_type": "markdown",
   "id": "75afd3c7",
   "metadata": {
    "id": "Io6Yn0Yi7woI",
    "papermill": {
     "duration": 0.01553,
     "end_time": "2023-11-22T03:23:13.670058",
     "exception": false,
     "start_time": "2023-11-22T03:23:13.654528",
     "status": "completed"
    },
    "tags": []
   },
   "source": [
    "Os dados sobre **vacinação da COVID-19** são compilados pelo projeto Nosso Mundo em Dados (*Our World in Data* ou OWID) da universidade britânica de **Oxford** ([link](https://www.ox.ac.uk)). Os dados são **atualizados diariamente** deste janeiro de 2020 com uma **granularidade temporal de dias e geográfica de países**. O website do projeto pode ser acessado neste [link](https://ourworldindata.org) enquanto os dados, neste [link](https://covid.ourworldindata.org/data/owid-covid-data.csv). Abaixo estão descritos os dados derivados do seu processamento."
   ]
  },
  {
   "cell_type": "markdown",
   "id": "e20fccb7",
   "metadata": {
    "id": "oF5oDfm07woK",
    "papermill": {
     "duration": 0.015392,
     "end_time": "2023-11-22T03:23:13.701471",
     "exception": false,
     "start_time": "2023-11-22T03:23:13.686079",
     "status": "completed"
    },
    "tags": []
   },
   "source": [
    " - **date**: data de referência;\n",
    " - **country**: país;\n",
    " - **population**: população estimada;\n",
    " - **total**: número acumulado de doses administradas;\n",
    " - **one_shot**: número acumulado de pessoas com uma dose;\n",
    " - **one_shot_perc**: número acumulado relativo de pessoas com uma dose;\n",
    " - **two_shots**: número acumulado de pessoas com duas doses;\n",
    " - **two_shot_perc**: número acumulado relativo de pessoas com duas doses;\n",
    " - **three_shots**: número acumulado de pessoas com três doses;\n",
    " - **three_shot_perc**: número acumulado relativo de pessoas com três doses;\n",
    " - **month**: mês de referência;\n",
    " - **year**: ano de referência."
   ]
  },
  {
   "cell_type": "markdown",
   "id": "486ee1a5",
   "metadata": {
    "id": "EkVv4SCzIrxS",
    "papermill": {
     "duration": 0.015375,
     "end_time": "2023-11-22T03:23:13.732527",
     "exception": false,
     "start_time": "2023-11-22T03:23:13.717152",
     "status": "completed"
    },
    "tags": []
   },
   "source": [
    "## 2\\. Análise Exploratória de Dados"
   ]
  },
  {
   "cell_type": "markdown",
   "id": "7e62eb26",
   "metadata": {
    "id": "5qb_q_g0W1xq",
    "papermill": {
     "duration": 0.015397,
     "end_time": "2023-11-22T03:23:13.763639",
     "exception": false,
     "start_time": "2023-11-22T03:23:13.748242",
     "status": "completed"
    },
    "tags": []
   },
   "source": [
    "Nesta sessão vamos utilizar os seguintes pacotes Python para processar os dados bruto em um formato adequado para um painel para exploração interativa de dados."
   ]
  },
  {
   "cell_type": "code",
   "execution_count": 1,
   "id": "8e2e0ef2",
   "metadata": {
    "execution": {
     "iopub.execute_input": "2023-11-22T03:23:13.797187Z",
     "iopub.status.busy": "2023-11-22T03:23:13.796466Z",
     "iopub.status.idle": "2023-11-22T03:23:14.171053Z",
     "shell.execute_reply": "2023-11-22T03:23:14.170223Z"
    },
    "id": "1X3WC_QYUlAz",
    "papermill": {
     "duration": 0.393986,
     "end_time": "2023-11-22T03:23:14.173377",
     "exception": false,
     "start_time": "2023-11-22T03:23:13.779391",
     "status": "completed"
    },
    "tags": []
   },
   "outputs": [],
   "source": [
    "import math\n",
    "from typing import Iterator\n",
    "from datetime import datetime, timedelta\n",
    "\n",
    "import numpy as np\n",
    "import pandas as pd"
   ]
  },
  {
   "cell_type": "markdown",
   "id": "e9c2ed9d",
   "metadata": {
    "id": "aP2Dlk9kOqCf",
    "papermill": {
     "duration": 0.015601,
     "end_time": "2023-11-22T03:23:14.205240",
     "exception": false,
     "start_time": "2023-11-22T03:23:14.189639",
     "status": "completed"
    },
    "tags": []
   },
   "source": [
    "### **2.1. Casos**"
   ]
  },
  {
   "cell_type": "markdown",
   "id": "7dfdaa39",
   "metadata": {
    "id": "8L5p6NGWaeSi",
    "papermill": {
     "duration": 0.015706,
     "end_time": "2023-11-22T03:23:14.236827",
     "exception": false,
     "start_time": "2023-11-22T03:23:14.221121",
     "status": "completed"
    },
    "tags": []
   },
   "source": [
    "Vamos processar os dados de **casos** da universidade John Hopkins.\n",
    "\n"
   ]
  },
  {
   "cell_type": "markdown",
   "id": "7e9adbbd",
   "metadata": {
    "id": "Nd159jDC8Dm-",
    "papermill": {
     "duration": 0.01562,
     "end_time": "2023-11-22T03:23:14.268713",
     "exception": false,
     "start_time": "2023-11-22T03:23:14.253093",
     "status": "completed"
    },
    "tags": []
   },
   "source": [
    "#### **2.1.1. Extração**"
   ]
  },
  {
   "cell_type": "markdown",
   "id": "a339c92b",
   "metadata": {
    "id": "QvRDLv8xVm7Y",
    "papermill": {
     "duration": 0.015625,
     "end_time": "2023-11-22T03:23:14.300200",
     "exception": false,
     "start_time": "2023-11-22T03:23:14.284575",
     "status": "completed"
    },
    "tags": []
   },
   "source": [
    "O dado está compilado em um arquivo por dia, exemplo para 2021/12/01."
   ]
  },
  {
   "cell_type": "code",
   "execution_count": 2,
   "id": "4d9a28c4",
   "metadata": {
    "execution": {
     "iopub.execute_input": "2023-11-22T03:23:14.333791Z",
     "iopub.status.busy": "2023-11-22T03:23:14.333269Z",
     "iopub.status.idle": "2023-11-22T03:23:14.669878Z",
     "shell.execute_reply": "2023-11-22T03:23:14.668790Z"
    },
    "id": "GmsdWZKzKWup",
    "papermill": {
     "duration": 0.356309,
     "end_time": "2023-11-22T03:23:14.672410",
     "exception": false,
     "start_time": "2023-11-22T03:23:14.316101",
     "status": "completed"
    },
    "tags": []
   },
   "outputs": [],
   "source": [
    "cases = pd.read_csv('https://raw.githubusercontent.com/CSSEGISandData/COVID-19/master/csse_covid_19_data/csse_covid_19_daily_reports/01-12-2021.csv', sep=',')"
   ]
  },
  {
   "cell_type": "code",
   "execution_count": 3,
   "id": "944a9a5c",
   "metadata": {
    "execution": {
     "iopub.execute_input": "2023-11-22T03:23:14.706102Z",
     "iopub.status.busy": "2023-11-22T03:23:14.705714Z",
     "iopub.status.idle": "2023-11-22T03:23:14.732028Z",
     "shell.execute_reply": "2023-11-22T03:23:14.731036Z"
    },
    "id": "bHg1MA4AKaeC",
    "outputId": "d205a23e-71b4-4c19-af69-424cacbb036e",
    "papermill": {
     "duration": 0.045746,
     "end_time": "2023-11-22T03:23:14.734160",
     "exception": false,
     "start_time": "2023-11-22T03:23:14.688414",
     "status": "completed"
    },
    "tags": []
   },
   "outputs": [
    {
     "data": {
      "text/html": [
       "<div>\n",
       "<style scoped>\n",
       "    .dataframe tbody tr th:only-of-type {\n",
       "        vertical-align: middle;\n",
       "    }\n",
       "\n",
       "    .dataframe tbody tr th {\n",
       "        vertical-align: top;\n",
       "    }\n",
       "\n",
       "    .dataframe thead th {\n",
       "        text-align: right;\n",
       "    }\n",
       "</style>\n",
       "<table border=\"1\" class=\"dataframe\">\n",
       "  <thead>\n",
       "    <tr style=\"text-align: right;\">\n",
       "      <th></th>\n",
       "      <th>FIPS</th>\n",
       "      <th>Admin2</th>\n",
       "      <th>Province_State</th>\n",
       "      <th>Country_Region</th>\n",
       "      <th>Last_Update</th>\n",
       "      <th>Lat</th>\n",
       "      <th>Long_</th>\n",
       "      <th>Confirmed</th>\n",
       "      <th>Deaths</th>\n",
       "      <th>Recovered</th>\n",
       "      <th>Active</th>\n",
       "      <th>Combined_Key</th>\n",
       "      <th>Incident_Rate</th>\n",
       "      <th>Case_Fatality_Ratio</th>\n",
       "    </tr>\n",
       "  </thead>\n",
       "  <tbody>\n",
       "    <tr>\n",
       "      <th>0</th>\n",
       "      <td>NaN</td>\n",
       "      <td>NaN</td>\n",
       "      <td>NaN</td>\n",
       "      <td>Afghanistan</td>\n",
       "      <td>2021-01-13 05:22:15</td>\n",
       "      <td>33.93911</td>\n",
       "      <td>67.709953</td>\n",
       "      <td>53584</td>\n",
       "      <td>2301</td>\n",
       "      <td>44608</td>\n",
       "      <td>6675</td>\n",
       "      <td>Afghanistan</td>\n",
       "      <td>137.647787</td>\n",
       "      <td>4.294192</td>\n",
       "    </tr>\n",
       "    <tr>\n",
       "      <th>1</th>\n",
       "      <td>NaN</td>\n",
       "      <td>NaN</td>\n",
       "      <td>NaN</td>\n",
       "      <td>Albania</td>\n",
       "      <td>2021-01-13 05:22:15</td>\n",
       "      <td>41.15330</td>\n",
       "      <td>20.168300</td>\n",
       "      <td>64627</td>\n",
       "      <td>1252</td>\n",
       "      <td>38421</td>\n",
       "      <td>24954</td>\n",
       "      <td>Albania</td>\n",
       "      <td>2245.708527</td>\n",
       "      <td>1.937271</td>\n",
       "    </tr>\n",
       "    <tr>\n",
       "      <th>2</th>\n",
       "      <td>NaN</td>\n",
       "      <td>NaN</td>\n",
       "      <td>NaN</td>\n",
       "      <td>Algeria</td>\n",
       "      <td>2021-01-13 05:22:15</td>\n",
       "      <td>28.03390</td>\n",
       "      <td>1.659600</td>\n",
       "      <td>102641</td>\n",
       "      <td>2816</td>\n",
       "      <td>69608</td>\n",
       "      <td>30217</td>\n",
       "      <td>Algeria</td>\n",
       "      <td>234.067409</td>\n",
       "      <td>2.743543</td>\n",
       "    </tr>\n",
       "    <tr>\n",
       "      <th>3</th>\n",
       "      <td>NaN</td>\n",
       "      <td>NaN</td>\n",
       "      <td>NaN</td>\n",
       "      <td>Andorra</td>\n",
       "      <td>2021-01-13 05:22:15</td>\n",
       "      <td>42.50630</td>\n",
       "      <td>1.521800</td>\n",
       "      <td>8682</td>\n",
       "      <td>86</td>\n",
       "      <td>7930</td>\n",
       "      <td>666</td>\n",
       "      <td>Andorra</td>\n",
       "      <td>11236.653077</td>\n",
       "      <td>0.990555</td>\n",
       "    </tr>\n",
       "    <tr>\n",
       "      <th>4</th>\n",
       "      <td>NaN</td>\n",
       "      <td>NaN</td>\n",
       "      <td>NaN</td>\n",
       "      <td>Angola</td>\n",
       "      <td>2021-01-13 05:22:15</td>\n",
       "      <td>-11.20270</td>\n",
       "      <td>17.873900</td>\n",
       "      <td>18343</td>\n",
       "      <td>422</td>\n",
       "      <td>15512</td>\n",
       "      <td>2409</td>\n",
       "      <td>Angola</td>\n",
       "      <td>55.811022</td>\n",
       "      <td>2.300605</td>\n",
       "    </tr>\n",
       "  </tbody>\n",
       "</table>\n",
       "</div>"
      ],
      "text/plain": [
       "   FIPS Admin2 Province_State Country_Region          Last_Update       Lat  \\\n",
       "0   NaN    NaN            NaN    Afghanistan  2021-01-13 05:22:15  33.93911   \n",
       "1   NaN    NaN            NaN        Albania  2021-01-13 05:22:15  41.15330   \n",
       "2   NaN    NaN            NaN        Algeria  2021-01-13 05:22:15  28.03390   \n",
       "3   NaN    NaN            NaN        Andorra  2021-01-13 05:22:15  42.50630   \n",
       "4   NaN    NaN            NaN         Angola  2021-01-13 05:22:15 -11.20270   \n",
       "\n",
       "       Long_  Confirmed  Deaths  Recovered  Active Combined_Key  \\\n",
       "0  67.709953      53584    2301      44608    6675  Afghanistan   \n",
       "1  20.168300      64627    1252      38421   24954      Albania   \n",
       "2   1.659600     102641    2816      69608   30217      Algeria   \n",
       "3   1.521800       8682      86       7930     666      Andorra   \n",
       "4  17.873900      18343     422      15512    2409       Angola   \n",
       "\n",
       "   Incident_Rate  Case_Fatality_Ratio  \n",
       "0     137.647787             4.294192  \n",
       "1    2245.708527             1.937271  \n",
       "2     234.067409             2.743543  \n",
       "3   11236.653077             0.990555  \n",
       "4      55.811022             2.300605  "
      ]
     },
     "execution_count": 3,
     "metadata": {},
     "output_type": "execute_result"
    }
   ],
   "source": [
    "cases.head()"
   ]
  },
  {
   "cell_type": "markdown",
   "id": "7b99a247",
   "metadata": {
    "id": "XoGYHPcoKXSV",
    "papermill": {
     "duration": 0.015916,
     "end_time": "2023-11-22T03:23:14.766516",
     "exception": false,
     "start_time": "2023-11-22T03:23:14.750600",
     "status": "completed"
    },
    "tags": []
   },
   "source": [
    "Portanto, precisaremos iterar dentro de um intervalo de tempo definido para extraí-lo."
   ]
  },
  {
   "cell_type": "code",
   "execution_count": 4,
   "id": "d784efcd",
   "metadata": {
    "execution": {
     "iopub.execute_input": "2023-11-22T03:23:14.800402Z",
     "iopub.status.busy": "2023-11-22T03:23:14.800010Z",
     "iopub.status.idle": "2023-11-22T03:23:14.804674Z",
     "shell.execute_reply": "2023-11-22T03:23:14.803850Z"
    },
    "id": "yvNNHQWjF1LI",
    "papermill": {
     "duration": 0.023938,
     "end_time": "2023-11-22T03:23:14.806515",
     "exception": false,
     "start_time": "2023-11-22T03:23:14.782577",
     "status": "completed"
    },
    "tags": []
   },
   "outputs": [],
   "source": [
    "def date_range(start_date: datetime, end_date: datetime) -> Iterator[datetime]:\n",
    "  date_range_days: int = (end_date - start_date).days\n",
    "  for lag in range(date_range_days):\n",
    "    yield start_date + timedelta(lag)"
   ]
  },
  {
   "cell_type": "code",
   "execution_count": 5,
   "id": "dcdf9221",
   "metadata": {
    "execution": {
     "iopub.execute_input": "2023-11-22T03:23:14.843038Z",
     "iopub.status.busy": "2023-11-22T03:23:14.841946Z",
     "iopub.status.idle": "2023-11-22T03:23:14.846869Z",
     "shell.execute_reply": "2023-11-22T03:23:14.845920Z"
    },
    "id": "pUnc9yv5ISm1",
    "papermill": {
     "duration": 0.02666,
     "end_time": "2023-11-22T03:23:14.849040",
     "exception": false,
     "start_time": "2023-11-22T03:23:14.822380",
     "status": "completed"
    },
    "tags": []
   },
   "outputs": [],
   "source": [
    "start_date = datetime(2021,  1,  1)\n",
    "end_date   = datetime(2021, 12, 31)"
   ]
  },
  {
   "cell_type": "markdown",
   "id": "8d8f33dd",
   "metadata": {
    "id": "EqAuJfCkWKiz",
    "papermill": {
     "duration": 0.015597,
     "end_time": "2023-11-22T03:23:14.880804",
     "exception": false,
     "start_time": "2023-11-22T03:23:14.865207",
     "status": "completed"
    },
    "tags": []
   },
   "source": [
    "De maneira iterativa, vamos selecionar as colunas de interesse e as linhas referentes ao Brasil."
   ]
  },
  {
   "cell_type": "code",
   "execution_count": 6,
   "id": "a65a1feb",
   "metadata": {
    "execution": {
     "iopub.execute_input": "2023-11-22T03:23:14.914502Z",
     "iopub.status.busy": "2023-11-22T03:23:14.913905Z",
     "iopub.status.idle": "2023-11-22T03:24:40.588480Z",
     "shell.execute_reply": "2023-11-22T03:24:40.587501Z"
    },
    "id": "-g3E-Ya4H4O1",
    "papermill": {
     "duration": 85.694535,
     "end_time": "2023-11-22T03:24:40.591133",
     "exception": false,
     "start_time": "2023-11-22T03:23:14.896598",
     "status": "completed"
    },
    "tags": []
   },
   "outputs": [],
   "source": [
    "import pandas as pd\n",
    "\n",
    "cases = None\n",
    "\n",
    "for date in date_range(start_date=start_date, end_date=end_date):\n",
    "\n",
    "    date_str = date.strftime('%m-%d-%Y')\n",
    "    data_source_url = f'https://raw.githubusercontent.com/CSSEGISandData/COVID-19/master/csse_covid_19_data/csse_covid_19_daily_reports/{date_str}.csv'\n",
    "\n",
    "    case = pd.read_csv(data_source_url, sep=',')\n",
    "    case = case.drop(['FIPS', 'Admin2', 'Last_Update', 'Lat', 'Long_', 'Recovered', 'Active', 'Combined_Key', 'Case_Fatality_Ratio'], axis=1)\n",
    "    case = case.query('Country_Region == \"Brazil\"').reset_index(drop=True)\n",
    "    case['Date'] = pd.to_datetime(date.strftime('%Y-%m-%d'))\n",
    "\n",
    "    if cases is None:\n",
    "        cases = case\n",
    "    else:\n",
    "        cases_list = [cases, case]\n",
    "        cases = pd.concat(cases_list, ignore_index=True)\n"
   ]
  },
  {
   "cell_type": "code",
   "execution_count": 7,
   "id": "b8e7207c",
   "metadata": {
    "execution": {
     "iopub.execute_input": "2023-11-22T03:24:40.627633Z",
     "iopub.status.busy": "2023-11-22T03:24:40.626920Z",
     "iopub.status.idle": "2023-11-22T03:24:40.644035Z",
     "shell.execute_reply": "2023-11-22T03:24:40.643059Z"
    },
    "id": "nOYxy_zMKBin",
    "outputId": "d8b5c994-918b-4169-a9f7-08745595311d",
    "papermill": {
     "duration": 0.038487,
     "end_time": "2023-11-22T03:24:40.646415",
     "exception": false,
     "start_time": "2023-11-22T03:24:40.607928",
     "status": "completed"
    },
    "tags": []
   },
   "outputs": [
    {
     "data": {
      "text/html": [
       "<div>\n",
       "<style scoped>\n",
       "    .dataframe tbody tr th:only-of-type {\n",
       "        vertical-align: middle;\n",
       "    }\n",
       "\n",
       "    .dataframe tbody tr th {\n",
       "        vertical-align: top;\n",
       "    }\n",
       "\n",
       "    .dataframe thead th {\n",
       "        text-align: right;\n",
       "    }\n",
       "</style>\n",
       "<table border=\"1\" class=\"dataframe\">\n",
       "  <thead>\n",
       "    <tr style=\"text-align: right;\">\n",
       "      <th></th>\n",
       "      <th>Province_State</th>\n",
       "      <th>Country_Region</th>\n",
       "      <th>Confirmed</th>\n",
       "      <th>Deaths</th>\n",
       "      <th>Incident_Rate</th>\n",
       "      <th>Date</th>\n",
       "    </tr>\n",
       "  </thead>\n",
       "  <tbody>\n",
       "    <tr>\n",
       "      <th>24</th>\n",
       "      <td>Sao Paulo</td>\n",
       "      <td>Brazil</td>\n",
       "      <td>1466191</td>\n",
       "      <td>46775</td>\n",
       "      <td>3192.990778</td>\n",
       "      <td>2021-01-01</td>\n",
       "    </tr>\n",
       "    <tr>\n",
       "      <th>51</th>\n",
       "      <td>Sao Paulo</td>\n",
       "      <td>Brazil</td>\n",
       "      <td>1467953</td>\n",
       "      <td>46808</td>\n",
       "      <td>3196.827966</td>\n",
       "      <td>2021-01-02</td>\n",
       "    </tr>\n",
       "    <tr>\n",
       "      <th>78</th>\n",
       "      <td>Sao Paulo</td>\n",
       "      <td>Brazil</td>\n",
       "      <td>1471422</td>\n",
       "      <td>46845</td>\n",
       "      <td>3204.382565</td>\n",
       "      <td>2021-01-03</td>\n",
       "    </tr>\n",
       "    <tr>\n",
       "      <th>105</th>\n",
       "      <td>Sao Paulo</td>\n",
       "      <td>Brazil</td>\n",
       "      <td>1473670</td>\n",
       "      <td>46888</td>\n",
       "      <td>3209.278136</td>\n",
       "      <td>2021-01-04</td>\n",
       "    </tr>\n",
       "    <tr>\n",
       "      <th>132</th>\n",
       "      <td>Sao Paulo</td>\n",
       "      <td>Brazil</td>\n",
       "      <td>1486551</td>\n",
       "      <td>47222</td>\n",
       "      <td>3237.329676</td>\n",
       "      <td>2021-01-05</td>\n",
       "    </tr>\n",
       "  </tbody>\n",
       "</table>\n",
       "</div>"
      ],
      "text/plain": [
       "    Province_State Country_Region  Confirmed  Deaths  Incident_Rate       Date\n",
       "24       Sao Paulo         Brazil    1466191   46775    3192.990778 2021-01-01\n",
       "51       Sao Paulo         Brazil    1467953   46808    3196.827966 2021-01-02\n",
       "78       Sao Paulo         Brazil    1471422   46845    3204.382565 2021-01-03\n",
       "105      Sao Paulo         Brazil    1473670   46888    3209.278136 2021-01-04\n",
       "132      Sao Paulo         Brazil    1486551   47222    3237.329676 2021-01-05"
      ]
     },
     "execution_count": 7,
     "metadata": {},
     "output_type": "execute_result"
    }
   ],
   "source": [
    "cases.query('Province_State == \"Sao Paulo\"').head()"
   ]
  },
  {
   "cell_type": "markdown",
   "id": "a12434c1",
   "metadata": {
    "id": "Z3HiqQRkOMGc",
    "papermill": {
     "duration": 0.016072,
     "end_time": "2023-11-22T03:24:40.678965",
     "exception": false,
     "start_time": "2023-11-22T03:24:40.662893",
     "status": "completed"
    },
    "tags": []
   },
   "source": [
    "#### **2.1.2. Wrangling**"
   ]
  },
  {
   "cell_type": "markdown",
   "id": "68dce0bf",
   "metadata": {
    "id": "ceDNL40JzB0K",
    "papermill": {
     "duration": 0.016329,
     "end_time": "2023-11-22T03:24:40.711486",
     "exception": false,
     "start_time": "2023-11-22T03:24:40.695157",
     "status": "completed"
    },
    "tags": []
   },
   "source": [
    "Vamos manipular os dados para o dashboard. O foco é em garantir uma boa granularidade e qualidade da base de dados."
   ]
  },
  {
   "cell_type": "code",
   "execution_count": 8,
   "id": "7f21537f",
   "metadata": {
    "execution": {
     "iopub.execute_input": "2023-11-22T03:24:40.745698Z",
     "iopub.status.busy": "2023-11-22T03:24:40.745300Z",
     "iopub.status.idle": "2023-11-22T03:24:40.757140Z",
     "shell.execute_reply": "2023-11-22T03:24:40.756155Z"
    },
    "id": "G66lP6tOqya_",
    "outputId": "e2e9854c-fc3c-4376-e273-e873df1e3061",
    "papermill": {
     "duration": 0.031573,
     "end_time": "2023-11-22T03:24:40.759245",
     "exception": false,
     "start_time": "2023-11-22T03:24:40.727672",
     "status": "completed"
    },
    "tags": []
   },
   "outputs": [
    {
     "data": {
      "text/html": [
       "<div>\n",
       "<style scoped>\n",
       "    .dataframe tbody tr th:only-of-type {\n",
       "        vertical-align: middle;\n",
       "    }\n",
       "\n",
       "    .dataframe tbody tr th {\n",
       "        vertical-align: top;\n",
       "    }\n",
       "\n",
       "    .dataframe thead th {\n",
       "        text-align: right;\n",
       "    }\n",
       "</style>\n",
       "<table border=\"1\" class=\"dataframe\">\n",
       "  <thead>\n",
       "    <tr style=\"text-align: right;\">\n",
       "      <th></th>\n",
       "      <th>Province_State</th>\n",
       "      <th>Country_Region</th>\n",
       "      <th>Confirmed</th>\n",
       "      <th>Deaths</th>\n",
       "      <th>Incident_Rate</th>\n",
       "      <th>Date</th>\n",
       "    </tr>\n",
       "  </thead>\n",
       "  <tbody>\n",
       "    <tr>\n",
       "      <th>0</th>\n",
       "      <td>Acre</td>\n",
       "      <td>Brazil</td>\n",
       "      <td>41689</td>\n",
       "      <td>796</td>\n",
       "      <td>4726.992352</td>\n",
       "      <td>2021-01-01</td>\n",
       "    </tr>\n",
       "    <tr>\n",
       "      <th>1</th>\n",
       "      <td>Alagoas</td>\n",
       "      <td>Brazil</td>\n",
       "      <td>105091</td>\n",
       "      <td>2496</td>\n",
       "      <td>3148.928928</td>\n",
       "      <td>2021-01-01</td>\n",
       "    </tr>\n",
       "    <tr>\n",
       "      <th>2</th>\n",
       "      <td>Amapa</td>\n",
       "      <td>Brazil</td>\n",
       "      <td>68361</td>\n",
       "      <td>926</td>\n",
       "      <td>8083.066602</td>\n",
       "      <td>2021-01-01</td>\n",
       "    </tr>\n",
       "    <tr>\n",
       "      <th>3</th>\n",
       "      <td>Amazonas</td>\n",
       "      <td>Brazil</td>\n",
       "      <td>201574</td>\n",
       "      <td>5295</td>\n",
       "      <td>4863.536793</td>\n",
       "      <td>2021-01-01</td>\n",
       "    </tr>\n",
       "    <tr>\n",
       "      <th>4</th>\n",
       "      <td>Bahia</td>\n",
       "      <td>Brazil</td>\n",
       "      <td>494684</td>\n",
       "      <td>9159</td>\n",
       "      <td>3326.039611</td>\n",
       "      <td>2021-01-01</td>\n",
       "    </tr>\n",
       "  </tbody>\n",
       "</table>\n",
       "</div>"
      ],
      "text/plain": [
       "  Province_State Country_Region  Confirmed  Deaths  Incident_Rate       Date\n",
       "0           Acre         Brazil      41689     796    4726.992352 2021-01-01\n",
       "1        Alagoas         Brazil     105091    2496    3148.928928 2021-01-01\n",
       "2          Amapa         Brazil      68361     926    8083.066602 2021-01-01\n",
       "3       Amazonas         Brazil     201574    5295    4863.536793 2021-01-01\n",
       "4          Bahia         Brazil     494684    9159    3326.039611 2021-01-01"
      ]
     },
     "execution_count": 8,
     "metadata": {},
     "output_type": "execute_result"
    }
   ],
   "source": [
    "cases.head()"
   ]
  },
  {
   "cell_type": "code",
   "execution_count": 9,
   "id": "ee10faeb",
   "metadata": {
    "execution": {
     "iopub.execute_input": "2023-11-22T03:24:40.794049Z",
     "iopub.status.busy": "2023-11-22T03:24:40.793680Z",
     "iopub.status.idle": "2023-11-22T03:24:40.800171Z",
     "shell.execute_reply": "2023-11-22T03:24:40.799261Z"
    },
    "id": "Z4yQeP4bVCC5",
    "outputId": "98614348-b8bc-43f3-e40d-28a0b68758f1",
    "papermill": {
     "duration": 0.026283,
     "end_time": "2023-11-22T03:24:40.802162",
     "exception": false,
     "start_time": "2023-11-22T03:24:40.775879",
     "status": "completed"
    },
    "tags": []
   },
   "outputs": [
    {
     "data": {
      "text/plain": [
       "(9828, 6)"
      ]
     },
     "execution_count": 9,
     "metadata": {},
     "output_type": "execute_result"
    }
   ],
   "source": [
    "cases.shape"
   ]
  },
  {
   "cell_type": "code",
   "execution_count": 10,
   "id": "6748e543",
   "metadata": {
    "execution": {
     "iopub.execute_input": "2023-11-22T03:24:40.839735Z",
     "iopub.status.busy": "2023-11-22T03:24:40.839120Z",
     "iopub.status.idle": "2023-11-22T03:24:40.859424Z",
     "shell.execute_reply": "2023-11-22T03:24:40.858322Z"
    },
    "id": "pRs8xDlcU-y0",
    "outputId": "81b31a12-7cb3-4a44-eb9d-1808ab9a4325",
    "papermill": {
     "duration": 0.04091,
     "end_time": "2023-11-22T03:24:40.861389",
     "exception": false,
     "start_time": "2023-11-22T03:24:40.820479",
     "status": "completed"
    },
    "tags": []
   },
   "outputs": [
    {
     "name": "stdout",
     "output_type": "stream",
     "text": [
      "<class 'pandas.core.frame.DataFrame'>\n",
      "RangeIndex: 9828 entries, 0 to 9827\n",
      "Data columns (total 6 columns):\n",
      " #   Column          Non-Null Count  Dtype         \n",
      "---  ------          --------------  -----         \n",
      " 0   Province_State  9828 non-null   object        \n",
      " 1   Country_Region  9828 non-null   object        \n",
      " 2   Confirmed       9828 non-null   int64         \n",
      " 3   Deaths          9828 non-null   int64         \n",
      " 4   Incident_Rate   9828 non-null   float64       \n",
      " 5   Date            9828 non-null   datetime64[ns]\n",
      "dtypes: datetime64[ns](1), float64(1), int64(2), object(2)\n",
      "memory usage: 460.8+ KB\n"
     ]
    }
   ],
   "source": [
    "cases.info()"
   ]
  },
  {
   "cell_type": "markdown",
   "id": "c39796d0",
   "metadata": {
    "id": "hgFFhUQgzFZ8",
    "papermill": {
     "duration": 0.01637,
     "end_time": "2023-11-22T03:24:40.894459",
     "exception": false,
     "start_time": "2023-11-22T03:24:40.878089",
     "status": "completed"
    },
    "tags": []
   },
   "source": [
    "Começamos com o nome das colunas."
   ]
  },
  {
   "cell_type": "code",
   "execution_count": 11,
   "id": "718a9ebc",
   "metadata": {
    "execution": {
     "iopub.execute_input": "2023-11-22T03:24:40.929940Z",
     "iopub.status.busy": "2023-11-22T03:24:40.929218Z",
     "iopub.status.idle": "2023-11-22T03:24:40.940398Z",
     "shell.execute_reply": "2023-11-22T03:24:40.939673Z"
    },
    "id": "1w9pQ8d_UCJO",
    "papermill": {
     "duration": 0.031249,
     "end_time": "2023-11-22T03:24:40.942503",
     "exception": false,
     "start_time": "2023-11-22T03:24:40.911254",
     "status": "completed"
    },
    "tags": []
   },
   "outputs": [],
   "source": [
    "cases = cases.rename(\n",
    "  columns={\n",
    "    'Province_State': 'state',\n",
    "    'Country_Region': 'country'\n",
    "  }\n",
    ")\n",
    "\n",
    "for col in cases.columns:\n",
    "  cases = cases.rename(columns={col: col.lower()})"
   ]
  },
  {
   "cell_type": "markdown",
   "id": "660e4cb9",
   "metadata": {
    "id": "q2p4qjZUn-e2",
    "papermill": {
     "duration": 0.016516,
     "end_time": "2023-11-22T03:24:40.975784",
     "exception": false,
     "start_time": "2023-11-22T03:24:40.959268",
     "status": "completed"
    },
    "tags": []
   },
   "source": [
    "Ajustamos o nome dos estados."
   ]
  },
  {
   "cell_type": "code",
   "execution_count": 12,
   "id": "c45ba89e",
   "metadata": {
    "execution": {
     "iopub.execute_input": "2023-11-22T03:24:41.011426Z",
     "iopub.status.busy": "2023-11-22T03:24:41.010440Z",
     "iopub.status.idle": "2023-11-22T03:24:41.021242Z",
     "shell.execute_reply": "2023-11-22T03:24:41.020354Z"
    },
    "id": "LBajRRZEnlms",
    "papermill": {
     "duration": 0.030706,
     "end_time": "2023-11-22T03:24:41.023142",
     "exception": false,
     "start_time": "2023-11-22T03:24:40.992436",
     "status": "completed"
    },
    "tags": []
   },
   "outputs": [],
   "source": [
    "states_map = {\n",
    "    'Amapa': 'Amapá',\n",
    "    'Ceara': 'Ceará',\n",
    "    'Espirito Santo': 'Espírito Santo',\n",
    "    'Goias': 'Goiás',\n",
    "    'Para': 'Pará',\n",
    "    'Paraiba': 'Paraíba',\n",
    "    'Parana': 'Paraná',\n",
    "    'Piaui': 'Piauí',\n",
    "    'Rondonia': 'Rondônia',\n",
    "    'Sao Paulo': 'São Paulo'\n",
    "}\n",
    "\n",
    "cases['state'] = cases['state'].apply(lambda state: states_map.get(state) if state in states_map.keys() else state)"
   ]
  },
  {
   "cell_type": "markdown",
   "id": "55cb32dc",
   "metadata": {
    "id": "niRCU0-JzHV2",
    "papermill": {
     "duration": 0.016606,
     "end_time": "2023-11-22T03:24:41.056556",
     "exception": false,
     "start_time": "2023-11-22T03:24:41.039950",
     "status": "completed"
    },
    "tags": []
   },
   "source": [
    "Vamos então computar novas colunas para enriquecer a base de dados."
   ]
  },
  {
   "cell_type": "markdown",
   "id": "b7c98ce7",
   "metadata": {
    "id": "V8Ijno5d28L-",
    "papermill": {
     "duration": 0.01642,
     "end_time": "2023-11-22T03:24:41.089708",
     "exception": false,
     "start_time": "2023-11-22T03:24:41.073288",
     "status": "completed"
    },
    "tags": []
   },
   "source": [
    " - Chaves temporais:"
   ]
  },
  {
   "cell_type": "code",
   "execution_count": 13,
   "id": "acf61ede",
   "metadata": {
    "execution": {
     "iopub.execute_input": "2023-11-22T03:24:41.125429Z",
     "iopub.status.busy": "2023-11-22T03:24:41.125068Z",
     "iopub.status.idle": "2023-11-22T03:24:41.232629Z",
     "shell.execute_reply": "2023-11-22T03:24:41.231814Z"
    },
    "id": "uRYhqYtRYYPI",
    "papermill": {
     "duration": 0.128172,
     "end_time": "2023-11-22T03:24:41.235033",
     "exception": false,
     "start_time": "2023-11-22T03:24:41.106861",
     "status": "completed"
    },
    "tags": []
   },
   "outputs": [],
   "source": [
    "cases['month'] = cases['date'].apply(lambda date: date.strftime('%Y-%m'))\n",
    "cases['year']  = cases['date'].apply(lambda date: date.strftime('%Y'))"
   ]
  },
  {
   "cell_type": "markdown",
   "id": "30220071",
   "metadata": {
    "id": "d9tjVG7o2_IT",
    "papermill": {
     "duration": 0.016569,
     "end_time": "2023-11-22T03:24:41.268625",
     "exception": false,
     "start_time": "2023-11-22T03:24:41.252056",
     "status": "completed"
    },
    "tags": []
   },
   "source": [
    " - População estimada do estado:"
   ]
  },
  {
   "cell_type": "code",
   "execution_count": 14,
   "id": "53b84ef3",
   "metadata": {
    "execution": {
     "iopub.execute_input": "2023-11-22T03:24:41.303570Z",
     "iopub.status.busy": "2023-11-22T03:24:41.303210Z",
     "iopub.status.idle": "2023-11-22T03:24:41.311567Z",
     "shell.execute_reply": "2023-11-22T03:24:41.310784Z"
    },
    "id": "1U6wV_zngbZW",
    "papermill": {
     "duration": 0.028199,
     "end_time": "2023-11-22T03:24:41.313379",
     "exception": false,
     "start_time": "2023-11-22T03:24:41.285180",
     "status": "completed"
    },
    "tags": []
   },
   "outputs": [],
   "source": [
    "cases['population'] = round(100000 * (cases['confirmed'] / cases['incident_rate']))\n",
    "cases = cases.drop('incident_rate', axis=1)"
   ]
  },
  {
   "cell_type": "markdown",
   "id": "14531152",
   "metadata": {
    "id": "LCxMEJP53E3v",
    "papermill": {
     "duration": 0.01647,
     "end_time": "2023-11-22T03:24:41.346657",
     "exception": false,
     "start_time": "2023-11-22T03:24:41.330187",
     "status": "completed"
    },
    "tags": []
   },
   "source": [
    " - Número, média móvel (7 dias) e estabilidade (14 dias) de casos e mortes por estado:"
   ]
  },
  {
   "cell_type": "markdown",
   "id": "6d23b25c",
   "metadata": {
    "id": "ZSHsw4H1oyjI",
    "papermill": {
     "duration": 0.016768,
     "end_time": "2023-11-22T03:24:41.380040",
     "exception": false,
     "start_time": "2023-11-22T03:24:41.363272",
     "status": "completed"
    },
    "tags": []
   },
   "source": [
    "| 1 | 2 | 3 | 4 | 5 | 6 | <font color='red'>7</font> | <font color='green'>8</font> | 9 | 10 | 11 | 12 | 13 | <font color='blue'>14<font color='red'> | 15 | 16 | 17 | 18 | 19 | 20 | 21 |\n",
    "| - | - | - | - | - | - | - | - | - | -- | -- | -- | -- | -- | -- | -- | -- | -- | -- | -- | -- |\n",
    "| <font color='red'>D-6</font> | <font color='red'>D-5</font> | <font color='red'>D-4</font> | <font color='red'>D-3</font> | <font color='red'>D-2</font> | <font color='red'>D-1</font> | <font color='red'>D0</font> | | | | | | | | | | | | | | |\n",
    "| D-7 | <font color='green'>D-6</font> | <font color='green'>D-5</font> | <font color='green'>D-4</font> | <font color='green'>D-3</font> | <font color='green'>D-2</font> | <font color='green'>D-1</font> | <font color='green'>D0</font> | | | | | | | | | | | | | |\n",
    "| D-13 | D-12 | D-11 | D-10 | D-9 | D-8 | D-7 | <font color='blue'>D-6</font> | <font color='blue'>D-5</font> | <font color='blue'>D-4</font> | <font color='blue'>D-3</font> | <font color='blue'>D-2</font> | <font color='blue'>D-1</font> | <font color='blue'>D0</font> | | | | | | | |"
   ]
  },
  {
   "cell_type": "code",
   "execution_count": 15,
   "id": "b936af8d",
   "metadata": {
    "execution": {
     "iopub.execute_input": "2023-11-22T03:24:41.415335Z",
     "iopub.status.busy": "2023-11-22T03:24:41.414556Z",
     "iopub.status.idle": "2023-11-22T03:24:41.687527Z",
     "shell.execute_reply": "2023-11-22T03:24:41.686663Z"
    },
    "id": "8ytrpaND3ZMQ",
    "papermill": {
     "duration": 0.293397,
     "end_time": "2023-11-22T03:24:41.690073",
     "exception": false,
     "start_time": "2023-11-22T03:24:41.396676",
     "status": "completed"
    },
    "tags": []
   },
   "outputs": [],
   "source": [
    "import numpy as np\n",
    "\n",
    "cases_list = []\n",
    "\n",
    "def get_trend(rate: float) -> str:\n",
    "    if np.isnan(rate):\n",
    "        return np.NaN\n",
    "\n",
    "    if rate < 0.75:\n",
    "        status = 'downward'\n",
    "    elif rate > 1.15:\n",
    "        status = 'upward'\n",
    "    else:\n",
    "        status = 'stable'\n",
    "\n",
    "    return status\n",
    "\n",
    "for state in cases['state'].drop_duplicates():\n",
    "    cases_per_state = cases.query(f'state == \"{state}\"').reset_index(drop=True)\n",
    "    cases_per_state = cases_per_state.sort_values(by=['date'])\n",
    "\n",
    "    cases_per_state['confirmed_1d'] = cases_per_state['confirmed'].diff(periods=1)\n",
    "    cases_per_state['confirmed_moving_avg_7d'] = np.ceil(cases_per_state['confirmed_1d'].rolling(window=7).mean())\n",
    "    cases_per_state['confirmed_moving_avg_7d_rate_14d'] = cases_per_state['confirmed_moving_avg_7d'] / cases_per_state[\n",
    "        'confirmed_moving_avg_7d'].shift(periods=14)\n",
    "    cases_per_state['confirmed_trend'] = cases_per_state['confirmed_moving_avg_7d_rate_14d'].apply(get_trend)\n",
    "\n",
    "    cases_per_state['deaths_1d'] = cases_per_state['deaths'].diff(periods=1)\n",
    "    cases_per_state['deaths_moving_avg_7d'] = np.ceil(cases_per_state['deaths_1d'].rolling(window=7).mean())\n",
    "    cases_per_state['deaths_moving_avg_7d_rate_14d'] = cases_per_state['deaths_moving_avg_7d'] / cases_per_state[\n",
    "        'deaths_moving_avg_7d'].shift(periods=14)\n",
    "    cases_per_state['deaths_trend'] = cases_per_state['deaths_moving_avg_7d_rate_14d'].apply(get_trend)\n",
    "\n",
    "    cases_list.append(cases_per_state)\n",
    "\n",
    "cases = pd.concat(cases_list, ignore_index=True)\n"
   ]
  },
  {
   "cell_type": "markdown",
   "id": "b13150b6",
   "metadata": {
    "id": "hisru_0i07Pg",
    "papermill": {
     "duration": 0.016739,
     "end_time": "2023-11-22T03:24:41.723947",
     "exception": false,
     "start_time": "2023-11-22T03:24:41.707208",
     "status": "completed"
    },
    "tags": []
   },
   "source": [
    "Garantir o tipo do dado é fundamental para consistência da base de dados. Vamos fazer o *type casting* das colunas."
   ]
  },
  {
   "cell_type": "code",
   "execution_count": 16,
   "id": "2bd2d77d",
   "metadata": {
    "execution": {
     "iopub.execute_input": "2023-11-22T03:24:41.759678Z",
     "iopub.status.busy": "2023-11-22T03:24:41.759162Z",
     "iopub.status.idle": "2023-11-22T03:24:41.772445Z",
     "shell.execute_reply": "2023-11-22T03:24:41.771638Z"
    },
    "id": "p7nalDg6KvFZ",
    "papermill": {
     "duration": 0.033431,
     "end_time": "2023-11-22T03:24:41.774572",
     "exception": false,
     "start_time": "2023-11-22T03:24:41.741141",
     "status": "completed"
    },
    "tags": []
   },
   "outputs": [],
   "source": [
    "cases['population'] = cases['population'].astype('Int64')\n",
    "cases['confirmed_1d'] = cases['confirmed_1d'].astype('Int64')\n",
    "cases['confirmed_moving_avg_7d'] = cases['confirmed_moving_avg_7d'].astype('Int64')\n",
    "cases['deaths_1d'] = cases['deaths_1d'].astype('Int64')\n",
    "cases['deaths_moving_avg_7d'] = cases['deaths_moving_avg_7d'].astype('Int64')"
   ]
  },
  {
   "cell_type": "markdown",
   "id": "6a173568",
   "metadata": {
    "id": "LOwQaxtfgYka",
    "papermill": {
     "duration": 0.01651,
     "end_time": "2023-11-22T03:24:41.808049",
     "exception": false,
     "start_time": "2023-11-22T03:24:41.791539",
     "status": "completed"
    },
    "tags": []
   },
   "source": [
    "Por fim, vamos reorganizar as colunas e conferir o resultado final."
   ]
  },
  {
   "cell_type": "code",
   "execution_count": 17,
   "id": "660336ce",
   "metadata": {
    "execution": {
     "iopub.execute_input": "2023-11-22T03:24:41.843366Z",
     "iopub.status.busy": "2023-11-22T03:24:41.842682Z",
     "iopub.status.idle": "2023-11-22T03:24:41.850830Z",
     "shell.execute_reply": "2023-11-22T03:24:41.850091Z"
    },
    "id": "6fkkdIXVZL-E",
    "papermill": {
     "duration": 0.027901,
     "end_time": "2023-11-22T03:24:41.852670",
     "exception": false,
     "start_time": "2023-11-22T03:24:41.824769",
     "status": "completed"
    },
    "tags": []
   },
   "outputs": [],
   "source": [
    "cases = cases[['date', 'country', 'state', 'population', 'confirmed', 'confirmed_1d', 'confirmed_moving_avg_7d', 'confirmed_moving_avg_7d_rate_14d', 'confirmed_trend', 'deaths', 'deaths_1d', 'deaths_moving_avg_7d', 'deaths_moving_avg_7d_rate_14d', 'deaths_trend', 'month', 'year']]"
   ]
  },
  {
   "cell_type": "code",
   "execution_count": 18,
   "id": "18b72b89",
   "metadata": {
    "execution": {
     "iopub.execute_input": "2023-11-22T03:24:41.889331Z",
     "iopub.status.busy": "2023-11-22T03:24:41.888356Z",
     "iopub.status.idle": "2023-11-22T03:24:41.914401Z",
     "shell.execute_reply": "2023-11-22T03:24:41.913307Z"
    },
    "id": "wUZetbA5zNO8",
    "outputId": "3668baaa-5526-4fb3-9b96-46511bfd3796",
    "papermill": {
     "duration": 0.04706,
     "end_time": "2023-11-22T03:24:41.916725",
     "exception": false,
     "start_time": "2023-11-22T03:24:41.869665",
     "status": "completed"
    },
    "tags": []
   },
   "outputs": [
    {
     "data": {
      "text/html": [
       "<div>\n",
       "<style scoped>\n",
       "    .dataframe tbody tr th:only-of-type {\n",
       "        vertical-align: middle;\n",
       "    }\n",
       "\n",
       "    .dataframe tbody tr th {\n",
       "        vertical-align: top;\n",
       "    }\n",
       "\n",
       "    .dataframe thead th {\n",
       "        text-align: right;\n",
       "    }\n",
       "</style>\n",
       "<table border=\"1\" class=\"dataframe\">\n",
       "  <thead>\n",
       "    <tr style=\"text-align: right;\">\n",
       "      <th></th>\n",
       "      <th>date</th>\n",
       "      <th>country</th>\n",
       "      <th>state</th>\n",
       "      <th>population</th>\n",
       "      <th>confirmed</th>\n",
       "      <th>confirmed_1d</th>\n",
       "      <th>confirmed_moving_avg_7d</th>\n",
       "      <th>confirmed_moving_avg_7d_rate_14d</th>\n",
       "      <th>confirmed_trend</th>\n",
       "      <th>deaths</th>\n",
       "      <th>deaths_1d</th>\n",
       "      <th>deaths_moving_avg_7d</th>\n",
       "      <th>deaths_moving_avg_7d_rate_14d</th>\n",
       "      <th>deaths_trend</th>\n",
       "      <th>month</th>\n",
       "      <th>year</th>\n",
       "    </tr>\n",
       "  </thead>\n",
       "  <tbody>\n",
       "    <tr>\n",
       "      <th>0</th>\n",
       "      <td>2021-01-01</td>\n",
       "      <td>Brazil</td>\n",
       "      <td>Acre</td>\n",
       "      <td>881935</td>\n",
       "      <td>41689</td>\n",
       "      <td>&lt;NA&gt;</td>\n",
       "      <td>&lt;NA&gt;</td>\n",
       "      <td>NaN</td>\n",
       "      <td>NaN</td>\n",
       "      <td>796</td>\n",
       "      <td>&lt;NA&gt;</td>\n",
       "      <td>&lt;NA&gt;</td>\n",
       "      <td>NaN</td>\n",
       "      <td>NaN</td>\n",
       "      <td>2021-01</td>\n",
       "      <td>2021</td>\n",
       "    </tr>\n",
       "    <tr>\n",
       "      <th>1</th>\n",
       "      <td>2021-01-02</td>\n",
       "      <td>Brazil</td>\n",
       "      <td>Acre</td>\n",
       "      <td>881935</td>\n",
       "      <td>41941</td>\n",
       "      <td>252</td>\n",
       "      <td>&lt;NA&gt;</td>\n",
       "      <td>NaN</td>\n",
       "      <td>NaN</td>\n",
       "      <td>798</td>\n",
       "      <td>2</td>\n",
       "      <td>&lt;NA&gt;</td>\n",
       "      <td>NaN</td>\n",
       "      <td>NaN</td>\n",
       "      <td>2021-01</td>\n",
       "      <td>2021</td>\n",
       "    </tr>\n",
       "    <tr>\n",
       "      <th>2</th>\n",
       "      <td>2021-01-03</td>\n",
       "      <td>Brazil</td>\n",
       "      <td>Acre</td>\n",
       "      <td>881935</td>\n",
       "      <td>42046</td>\n",
       "      <td>105</td>\n",
       "      <td>&lt;NA&gt;</td>\n",
       "      <td>NaN</td>\n",
       "      <td>NaN</td>\n",
       "      <td>802</td>\n",
       "      <td>4</td>\n",
       "      <td>&lt;NA&gt;</td>\n",
       "      <td>NaN</td>\n",
       "      <td>NaN</td>\n",
       "      <td>2021-01</td>\n",
       "      <td>2021</td>\n",
       "    </tr>\n",
       "    <tr>\n",
       "      <th>3</th>\n",
       "      <td>2021-01-04</td>\n",
       "      <td>Brazil</td>\n",
       "      <td>Acre</td>\n",
       "      <td>881935</td>\n",
       "      <td>42117</td>\n",
       "      <td>71</td>\n",
       "      <td>&lt;NA&gt;</td>\n",
       "      <td>NaN</td>\n",
       "      <td>NaN</td>\n",
       "      <td>806</td>\n",
       "      <td>4</td>\n",
       "      <td>&lt;NA&gt;</td>\n",
       "      <td>NaN</td>\n",
       "      <td>NaN</td>\n",
       "      <td>2021-01</td>\n",
       "      <td>2021</td>\n",
       "    </tr>\n",
       "    <tr>\n",
       "      <th>4</th>\n",
       "      <td>2021-01-05</td>\n",
       "      <td>Brazil</td>\n",
       "      <td>Acre</td>\n",
       "      <td>881935</td>\n",
       "      <td>42170</td>\n",
       "      <td>53</td>\n",
       "      <td>&lt;NA&gt;</td>\n",
       "      <td>NaN</td>\n",
       "      <td>NaN</td>\n",
       "      <td>808</td>\n",
       "      <td>2</td>\n",
       "      <td>&lt;NA&gt;</td>\n",
       "      <td>NaN</td>\n",
       "      <td>NaN</td>\n",
       "      <td>2021-01</td>\n",
       "      <td>2021</td>\n",
       "    </tr>\n",
       "    <tr>\n",
       "      <th>5</th>\n",
       "      <td>2021-01-06</td>\n",
       "      <td>Brazil</td>\n",
       "      <td>Acre</td>\n",
       "      <td>881935</td>\n",
       "      <td>42378</td>\n",
       "      <td>208</td>\n",
       "      <td>&lt;NA&gt;</td>\n",
       "      <td>NaN</td>\n",
       "      <td>NaN</td>\n",
       "      <td>814</td>\n",
       "      <td>6</td>\n",
       "      <td>&lt;NA&gt;</td>\n",
       "      <td>NaN</td>\n",
       "      <td>NaN</td>\n",
       "      <td>2021-01</td>\n",
       "      <td>2021</td>\n",
       "    </tr>\n",
       "    <tr>\n",
       "      <th>6</th>\n",
       "      <td>2021-01-07</td>\n",
       "      <td>Brazil</td>\n",
       "      <td>Acre</td>\n",
       "      <td>881935</td>\n",
       "      <td>42478</td>\n",
       "      <td>100</td>\n",
       "      <td>&lt;NA&gt;</td>\n",
       "      <td>NaN</td>\n",
       "      <td>NaN</td>\n",
       "      <td>821</td>\n",
       "      <td>7</td>\n",
       "      <td>&lt;NA&gt;</td>\n",
       "      <td>NaN</td>\n",
       "      <td>NaN</td>\n",
       "      <td>2021-01</td>\n",
       "      <td>2021</td>\n",
       "    </tr>\n",
       "    <tr>\n",
       "      <th>7</th>\n",
       "      <td>2021-01-08</td>\n",
       "      <td>Brazil</td>\n",
       "      <td>Acre</td>\n",
       "      <td>881935</td>\n",
       "      <td>42814</td>\n",
       "      <td>336</td>\n",
       "      <td>161</td>\n",
       "      <td>NaN</td>\n",
       "      <td>NaN</td>\n",
       "      <td>823</td>\n",
       "      <td>2</td>\n",
       "      <td>4</td>\n",
       "      <td>NaN</td>\n",
       "      <td>NaN</td>\n",
       "      <td>2021-01</td>\n",
       "      <td>2021</td>\n",
       "    </tr>\n",
       "    <tr>\n",
       "      <th>8</th>\n",
       "      <td>2021-01-09</td>\n",
       "      <td>Brazil</td>\n",
       "      <td>Acre</td>\n",
       "      <td>881935</td>\n",
       "      <td>42908</td>\n",
       "      <td>94</td>\n",
       "      <td>139</td>\n",
       "      <td>NaN</td>\n",
       "      <td>NaN</td>\n",
       "      <td>823</td>\n",
       "      <td>0</td>\n",
       "      <td>4</td>\n",
       "      <td>NaN</td>\n",
       "      <td>NaN</td>\n",
       "      <td>2021-01</td>\n",
       "      <td>2021</td>\n",
       "    </tr>\n",
       "    <tr>\n",
       "      <th>9</th>\n",
       "      <td>2021-01-10</td>\n",
       "      <td>Brazil</td>\n",
       "      <td>Acre</td>\n",
       "      <td>881935</td>\n",
       "      <td>43127</td>\n",
       "      <td>219</td>\n",
       "      <td>155</td>\n",
       "      <td>NaN</td>\n",
       "      <td>NaN</td>\n",
       "      <td>825</td>\n",
       "      <td>2</td>\n",
       "      <td>4</td>\n",
       "      <td>NaN</td>\n",
       "      <td>NaN</td>\n",
       "      <td>2021-01</td>\n",
       "      <td>2021</td>\n",
       "    </tr>\n",
       "    <tr>\n",
       "      <th>10</th>\n",
       "      <td>2021-01-11</td>\n",
       "      <td>Brazil</td>\n",
       "      <td>Acre</td>\n",
       "      <td>881935</td>\n",
       "      <td>43346</td>\n",
       "      <td>219</td>\n",
       "      <td>176</td>\n",
       "      <td>NaN</td>\n",
       "      <td>NaN</td>\n",
       "      <td>826</td>\n",
       "      <td>1</td>\n",
       "      <td>3</td>\n",
       "      <td>NaN</td>\n",
       "      <td>NaN</td>\n",
       "      <td>2021-01</td>\n",
       "      <td>2021</td>\n",
       "    </tr>\n",
       "    <tr>\n",
       "      <th>11</th>\n",
       "      <td>2021-01-12</td>\n",
       "      <td>Brazil</td>\n",
       "      <td>Acre</td>\n",
       "      <td>881935</td>\n",
       "      <td>43432</td>\n",
       "      <td>86</td>\n",
       "      <td>181</td>\n",
       "      <td>NaN</td>\n",
       "      <td>NaN</td>\n",
       "      <td>827</td>\n",
       "      <td>1</td>\n",
       "      <td>3</td>\n",
       "      <td>NaN</td>\n",
       "      <td>NaN</td>\n",
       "      <td>2021-01</td>\n",
       "      <td>2021</td>\n",
       "    </tr>\n",
       "    <tr>\n",
       "      <th>12</th>\n",
       "      <td>2021-01-13</td>\n",
       "      <td>Brazil</td>\n",
       "      <td>Acre</td>\n",
       "      <td>881935</td>\n",
       "      <td>43785</td>\n",
       "      <td>353</td>\n",
       "      <td>201</td>\n",
       "      <td>NaN</td>\n",
       "      <td>NaN</td>\n",
       "      <td>829</td>\n",
       "      <td>2</td>\n",
       "      <td>3</td>\n",
       "      <td>NaN</td>\n",
       "      <td>NaN</td>\n",
       "      <td>2021-01</td>\n",
       "      <td>2021</td>\n",
       "    </tr>\n",
       "    <tr>\n",
       "      <th>13</th>\n",
       "      <td>2021-01-14</td>\n",
       "      <td>Brazil</td>\n",
       "      <td>Acre</td>\n",
       "      <td>881935</td>\n",
       "      <td>44068</td>\n",
       "      <td>283</td>\n",
       "      <td>228</td>\n",
       "      <td>NaN</td>\n",
       "      <td>NaN</td>\n",
       "      <td>832</td>\n",
       "      <td>3</td>\n",
       "      <td>2</td>\n",
       "      <td>NaN</td>\n",
       "      <td>NaN</td>\n",
       "      <td>2021-01</td>\n",
       "      <td>2021</td>\n",
       "    </tr>\n",
       "    <tr>\n",
       "      <th>14</th>\n",
       "      <td>2021-01-15</td>\n",
       "      <td>Brazil</td>\n",
       "      <td>Acre</td>\n",
       "      <td>881935</td>\n",
       "      <td>44156</td>\n",
       "      <td>88</td>\n",
       "      <td>192</td>\n",
       "      <td>NaN</td>\n",
       "      <td>NaN</td>\n",
       "      <td>835</td>\n",
       "      <td>3</td>\n",
       "      <td>2</td>\n",
       "      <td>NaN</td>\n",
       "      <td>NaN</td>\n",
       "      <td>2021-01</td>\n",
       "      <td>2021</td>\n",
       "    </tr>\n",
       "    <tr>\n",
       "      <th>15</th>\n",
       "      <td>2021-01-16</td>\n",
       "      <td>Brazil</td>\n",
       "      <td>Acre</td>\n",
       "      <td>881935</td>\n",
       "      <td>44621</td>\n",
       "      <td>465</td>\n",
       "      <td>245</td>\n",
       "      <td>NaN</td>\n",
       "      <td>NaN</td>\n",
       "      <td>835</td>\n",
       "      <td>0</td>\n",
       "      <td>2</td>\n",
       "      <td>NaN</td>\n",
       "      <td>NaN</td>\n",
       "      <td>2021-01</td>\n",
       "      <td>2021</td>\n",
       "    </tr>\n",
       "    <tr>\n",
       "      <th>16</th>\n",
       "      <td>2021-01-17</td>\n",
       "      <td>Brazil</td>\n",
       "      <td>Acre</td>\n",
       "      <td>881935</td>\n",
       "      <td>44767</td>\n",
       "      <td>146</td>\n",
       "      <td>235</td>\n",
       "      <td>NaN</td>\n",
       "      <td>NaN</td>\n",
       "      <td>836</td>\n",
       "      <td>1</td>\n",
       "      <td>2</td>\n",
       "      <td>NaN</td>\n",
       "      <td>NaN</td>\n",
       "      <td>2021-01</td>\n",
       "      <td>2021</td>\n",
       "    </tr>\n",
       "    <tr>\n",
       "      <th>17</th>\n",
       "      <td>2021-01-18</td>\n",
       "      <td>Brazil</td>\n",
       "      <td>Acre</td>\n",
       "      <td>881935</td>\n",
       "      <td>44775</td>\n",
       "      <td>8</td>\n",
       "      <td>205</td>\n",
       "      <td>NaN</td>\n",
       "      <td>NaN</td>\n",
       "      <td>837</td>\n",
       "      <td>1</td>\n",
       "      <td>2</td>\n",
       "      <td>NaN</td>\n",
       "      <td>NaN</td>\n",
       "      <td>2021-01</td>\n",
       "      <td>2021</td>\n",
       "    </tr>\n",
       "    <tr>\n",
       "      <th>18</th>\n",
       "      <td>2021-01-19</td>\n",
       "      <td>Brazil</td>\n",
       "      <td>Acre</td>\n",
       "      <td>881935</td>\n",
       "      <td>45208</td>\n",
       "      <td>433</td>\n",
       "      <td>254</td>\n",
       "      <td>NaN</td>\n",
       "      <td>NaN</td>\n",
       "      <td>839</td>\n",
       "      <td>2</td>\n",
       "      <td>2</td>\n",
       "      <td>NaN</td>\n",
       "      <td>NaN</td>\n",
       "      <td>2021-01</td>\n",
       "      <td>2021</td>\n",
       "    </tr>\n",
       "    <tr>\n",
       "      <th>19</th>\n",
       "      <td>2021-01-20</td>\n",
       "      <td>Brazil</td>\n",
       "      <td>Acre</td>\n",
       "      <td>881935</td>\n",
       "      <td>45429</td>\n",
       "      <td>221</td>\n",
       "      <td>235</td>\n",
       "      <td>NaN</td>\n",
       "      <td>NaN</td>\n",
       "      <td>840</td>\n",
       "      <td>1</td>\n",
       "      <td>2</td>\n",
       "      <td>NaN</td>\n",
       "      <td>NaN</td>\n",
       "      <td>2021-01</td>\n",
       "      <td>2021</td>\n",
       "    </tr>\n",
       "    <tr>\n",
       "      <th>20</th>\n",
       "      <td>2021-01-21</td>\n",
       "      <td>Brazil</td>\n",
       "      <td>Acre</td>\n",
       "      <td>881935</td>\n",
       "      <td>45729</td>\n",
       "      <td>300</td>\n",
       "      <td>238</td>\n",
       "      <td>NaN</td>\n",
       "      <td>NaN</td>\n",
       "      <td>844</td>\n",
       "      <td>4</td>\n",
       "      <td>2</td>\n",
       "      <td>NaN</td>\n",
       "      <td>NaN</td>\n",
       "      <td>2021-01</td>\n",
       "      <td>2021</td>\n",
       "    </tr>\n",
       "    <tr>\n",
       "      <th>21</th>\n",
       "      <td>2021-01-22</td>\n",
       "      <td>Brazil</td>\n",
       "      <td>Acre</td>\n",
       "      <td>881935</td>\n",
       "      <td>45987</td>\n",
       "      <td>258</td>\n",
       "      <td>262</td>\n",
       "      <td>1.627329</td>\n",
       "      <td>upward</td>\n",
       "      <td>846</td>\n",
       "      <td>2</td>\n",
       "      <td>2</td>\n",
       "      <td>0.5</td>\n",
       "      <td>downward</td>\n",
       "      <td>2021-01</td>\n",
       "      <td>2021</td>\n",
       "    </tr>\n",
       "    <tr>\n",
       "      <th>22</th>\n",
       "      <td>2021-01-23</td>\n",
       "      <td>Brazil</td>\n",
       "      <td>Acre</td>\n",
       "      <td>881935</td>\n",
       "      <td>46239</td>\n",
       "      <td>252</td>\n",
       "      <td>232</td>\n",
       "      <td>1.669065</td>\n",
       "      <td>upward</td>\n",
       "      <td>848</td>\n",
       "      <td>2</td>\n",
       "      <td>2</td>\n",
       "      <td>0.5</td>\n",
       "      <td>downward</td>\n",
       "      <td>2021-01</td>\n",
       "      <td>2021</td>\n",
       "    </tr>\n",
       "    <tr>\n",
       "      <th>23</th>\n",
       "      <td>2021-01-24</td>\n",
       "      <td>Brazil</td>\n",
       "      <td>Acre</td>\n",
       "      <td>881935</td>\n",
       "      <td>46429</td>\n",
       "      <td>190</td>\n",
       "      <td>238</td>\n",
       "      <td>1.535484</td>\n",
       "      <td>upward</td>\n",
       "      <td>850</td>\n",
       "      <td>2</td>\n",
       "      <td>2</td>\n",
       "      <td>0.5</td>\n",
       "      <td>downward</td>\n",
       "      <td>2021-01</td>\n",
       "      <td>2021</td>\n",
       "    </tr>\n",
       "    <tr>\n",
       "      <th>24</th>\n",
       "      <td>2021-01-25</td>\n",
       "      <td>Brazil</td>\n",
       "      <td>Acre</td>\n",
       "      <td>881935</td>\n",
       "      <td>46539</td>\n",
       "      <td>110</td>\n",
       "      <td>252</td>\n",
       "      <td>1.431818</td>\n",
       "      <td>upward</td>\n",
       "      <td>854</td>\n",
       "      <td>4</td>\n",
       "      <td>3</td>\n",
       "      <td>1.0</td>\n",
       "      <td>stable</td>\n",
       "      <td>2021-01</td>\n",
       "      <td>2021</td>\n",
       "    </tr>\n",
       "  </tbody>\n",
       "</table>\n",
       "</div>"
      ],
      "text/plain": [
       "         date country state  population  confirmed  confirmed_1d  \\\n",
       "0  2021-01-01  Brazil  Acre      881935      41689          <NA>   \n",
       "1  2021-01-02  Brazil  Acre      881935      41941           252   \n",
       "2  2021-01-03  Brazil  Acre      881935      42046           105   \n",
       "3  2021-01-04  Brazil  Acre      881935      42117            71   \n",
       "4  2021-01-05  Brazil  Acre      881935      42170            53   \n",
       "5  2021-01-06  Brazil  Acre      881935      42378           208   \n",
       "6  2021-01-07  Brazil  Acre      881935      42478           100   \n",
       "7  2021-01-08  Brazil  Acre      881935      42814           336   \n",
       "8  2021-01-09  Brazil  Acre      881935      42908            94   \n",
       "9  2021-01-10  Brazil  Acre      881935      43127           219   \n",
       "10 2021-01-11  Brazil  Acre      881935      43346           219   \n",
       "11 2021-01-12  Brazil  Acre      881935      43432            86   \n",
       "12 2021-01-13  Brazil  Acre      881935      43785           353   \n",
       "13 2021-01-14  Brazil  Acre      881935      44068           283   \n",
       "14 2021-01-15  Brazil  Acre      881935      44156            88   \n",
       "15 2021-01-16  Brazil  Acre      881935      44621           465   \n",
       "16 2021-01-17  Brazil  Acre      881935      44767           146   \n",
       "17 2021-01-18  Brazil  Acre      881935      44775             8   \n",
       "18 2021-01-19  Brazil  Acre      881935      45208           433   \n",
       "19 2021-01-20  Brazil  Acre      881935      45429           221   \n",
       "20 2021-01-21  Brazil  Acre      881935      45729           300   \n",
       "21 2021-01-22  Brazil  Acre      881935      45987           258   \n",
       "22 2021-01-23  Brazil  Acre      881935      46239           252   \n",
       "23 2021-01-24  Brazil  Acre      881935      46429           190   \n",
       "24 2021-01-25  Brazil  Acre      881935      46539           110   \n",
       "\n",
       "    confirmed_moving_avg_7d  confirmed_moving_avg_7d_rate_14d confirmed_trend  \\\n",
       "0                      <NA>                               NaN             NaN   \n",
       "1                      <NA>                               NaN             NaN   \n",
       "2                      <NA>                               NaN             NaN   \n",
       "3                      <NA>                               NaN             NaN   \n",
       "4                      <NA>                               NaN             NaN   \n",
       "5                      <NA>                               NaN             NaN   \n",
       "6                      <NA>                               NaN             NaN   \n",
       "7                       161                               NaN             NaN   \n",
       "8                       139                               NaN             NaN   \n",
       "9                       155                               NaN             NaN   \n",
       "10                      176                               NaN             NaN   \n",
       "11                      181                               NaN             NaN   \n",
       "12                      201                               NaN             NaN   \n",
       "13                      228                               NaN             NaN   \n",
       "14                      192                               NaN             NaN   \n",
       "15                      245                               NaN             NaN   \n",
       "16                      235                               NaN             NaN   \n",
       "17                      205                               NaN             NaN   \n",
       "18                      254                               NaN             NaN   \n",
       "19                      235                               NaN             NaN   \n",
       "20                      238                               NaN             NaN   \n",
       "21                      262                          1.627329          upward   \n",
       "22                      232                          1.669065          upward   \n",
       "23                      238                          1.535484          upward   \n",
       "24                      252                          1.431818          upward   \n",
       "\n",
       "    deaths  deaths_1d  deaths_moving_avg_7d  deaths_moving_avg_7d_rate_14d  \\\n",
       "0      796       <NA>                  <NA>                            NaN   \n",
       "1      798          2                  <NA>                            NaN   \n",
       "2      802          4                  <NA>                            NaN   \n",
       "3      806          4                  <NA>                            NaN   \n",
       "4      808          2                  <NA>                            NaN   \n",
       "5      814          6                  <NA>                            NaN   \n",
       "6      821          7                  <NA>                            NaN   \n",
       "7      823          2                     4                            NaN   \n",
       "8      823          0                     4                            NaN   \n",
       "9      825          2                     4                            NaN   \n",
       "10     826          1                     3                            NaN   \n",
       "11     827          1                     3                            NaN   \n",
       "12     829          2                     3                            NaN   \n",
       "13     832          3                     2                            NaN   \n",
       "14     835          3                     2                            NaN   \n",
       "15     835          0                     2                            NaN   \n",
       "16     836          1                     2                            NaN   \n",
       "17     837          1                     2                            NaN   \n",
       "18     839          2                     2                            NaN   \n",
       "19     840          1                     2                            NaN   \n",
       "20     844          4                     2                            NaN   \n",
       "21     846          2                     2                            0.5   \n",
       "22     848          2                     2                            0.5   \n",
       "23     850          2                     2                            0.5   \n",
       "24     854          4                     3                            1.0   \n",
       "\n",
       "   deaths_trend    month  year  \n",
       "0           NaN  2021-01  2021  \n",
       "1           NaN  2021-01  2021  \n",
       "2           NaN  2021-01  2021  \n",
       "3           NaN  2021-01  2021  \n",
       "4           NaN  2021-01  2021  \n",
       "5           NaN  2021-01  2021  \n",
       "6           NaN  2021-01  2021  \n",
       "7           NaN  2021-01  2021  \n",
       "8           NaN  2021-01  2021  \n",
       "9           NaN  2021-01  2021  \n",
       "10          NaN  2021-01  2021  \n",
       "11          NaN  2021-01  2021  \n",
       "12          NaN  2021-01  2021  \n",
       "13          NaN  2021-01  2021  \n",
       "14          NaN  2021-01  2021  \n",
       "15          NaN  2021-01  2021  \n",
       "16          NaN  2021-01  2021  \n",
       "17          NaN  2021-01  2021  \n",
       "18          NaN  2021-01  2021  \n",
       "19          NaN  2021-01  2021  \n",
       "20          NaN  2021-01  2021  \n",
       "21     downward  2021-01  2021  \n",
       "22     downward  2021-01  2021  \n",
       "23     downward  2021-01  2021  \n",
       "24       stable  2021-01  2021  "
      ]
     },
     "execution_count": 18,
     "metadata": {},
     "output_type": "execute_result"
    }
   ],
   "source": [
    "cases.head(n=25)"
   ]
  },
  {
   "cell_type": "markdown",
   "id": "64fb4504",
   "metadata": {
    "id": "KaLl8zdofQwE",
    "papermill": {
     "duration": 0.017104,
     "end_time": "2023-11-22T03:24:41.951374",
     "exception": false,
     "start_time": "2023-11-22T03:24:41.934270",
     "status": "completed"
    },
    "tags": []
   },
   "source": [
    "#### **2.1.3. Carregamento**"
   ]
  },
  {
   "cell_type": "markdown",
   "id": "c6249b5b",
   "metadata": {
    "id": "b1vD9VLafQwG",
    "papermill": {
     "duration": 0.016987,
     "end_time": "2023-11-22T03:24:41.985943",
     "exception": false,
     "start_time": "2023-11-22T03:24:41.968956",
     "status": "completed"
    },
    "tags": []
   },
   "source": [
    "Com os dados manipulados, vamos persisti-lo em disco, fazer o seu download e carrega-lo no Google Data Studio."
   ]
  },
  {
   "cell_type": "code",
   "execution_count": 19,
   "id": "fbdd0b6a",
   "metadata": {
    "execution": {
     "iopub.execute_input": "2023-11-22T03:24:42.023681Z",
     "iopub.status.busy": "2023-11-22T03:24:42.023250Z",
     "iopub.status.idle": "2023-11-22T03:24:42.117414Z",
     "shell.execute_reply": "2023-11-22T03:24:42.116305Z"
    },
    "id": "mAazd-g0fQwG",
    "papermill": {
     "duration": 0.116321,
     "end_time": "2023-11-22T03:24:42.119884",
     "exception": false,
     "start_time": "2023-11-22T03:24:42.003563",
     "status": "completed"
    },
    "tags": []
   },
   "outputs": [],
   "source": [
    "cases.to_csv('./covid-cases.csv', sep=',', index=False)"
   ]
  },
  {
   "cell_type": "markdown",
   "id": "774dbd7f",
   "metadata": {
    "id": "ndJlwEdGpvRO",
    "papermill": {
     "duration": 0.017318,
     "end_time": "2023-11-22T03:24:42.155035",
     "exception": false,
     "start_time": "2023-11-22T03:24:42.137717",
     "status": "completed"
    },
    "tags": []
   },
   "source": [
    "### **2.2. Vacinação**"
   ]
  },
  {
   "cell_type": "markdown",
   "id": "a4eac91a",
   "metadata": {
    "id": "4KimqDnGbHbI",
    "papermill": {
     "duration": 0.017312,
     "end_time": "2023-11-22T03:24:42.191065",
     "exception": false,
     "start_time": "2023-11-22T03:24:42.173753",
     "status": "completed"
    },
    "tags": []
   },
   "source": [
    "Vamos processar os dados de **vacinação** da universidade de Oxford."
   ]
  },
  {
   "cell_type": "markdown",
   "id": "1db377a1",
   "metadata": {
    "id": "3SsBfzTOUwZh",
    "papermill": {
     "duration": 0.017163,
     "end_time": "2023-11-22T03:24:42.225642",
     "exception": false,
     "start_time": "2023-11-22T03:24:42.208479",
     "status": "completed"
    },
    "tags": []
   },
   "source": [
    "#### **2.2.1. Extração**"
   ]
  },
  {
   "cell_type": "markdown",
   "id": "b8eb14fa",
   "metadata": {
    "id": "k6ZYYdAKRQGS",
    "papermill": {
     "duration": 0.017426,
     "end_time": "2023-11-22T03:24:42.260502",
     "exception": false,
     "start_time": "2023-11-22T03:24:42.243076",
     "status": "completed"
    },
    "tags": []
   },
   "source": [
    "Os dados estão compilados em um único arquivo."
   ]
  },
  {
   "cell_type": "code",
   "execution_count": 20,
   "id": "8dce3a71",
   "metadata": {
    "execution": {
     "iopub.execute_input": "2023-11-22T03:24:42.297254Z",
     "iopub.status.busy": "2023-11-22T03:24:42.296859Z",
     "iopub.status.idle": "2023-11-22T03:24:47.667663Z",
     "shell.execute_reply": "2023-11-22T03:24:47.666555Z"
    },
    "id": "G8nM5lc0USbd",
    "papermill": {
     "duration": 5.392235,
     "end_time": "2023-11-22T03:24:47.670219",
     "exception": false,
     "start_time": "2023-11-22T03:24:42.277984",
     "status": "completed"
    },
    "tags": []
   },
   "outputs": [
    {
     "name": "stderr",
     "output_type": "stream",
     "text": [
      "/tmp/ipykernel_19/738699849.py:1: FutureWarning: The argument 'infer_datetime_format' is deprecated and will be removed in a future version. A strict version of it is now the default, see https://pandas.pydata.org/pdeps/0004-consistent-to-datetime-parsing.html. You can safely remove this argument.\n",
      "  vaccines = pd.read_csv('https://covid.ourworldindata.org/data/owid-covid-data.csv', sep=',', parse_dates=[3], infer_datetime_format=True)\n"
     ]
    }
   ],
   "source": [
    "vaccines = pd.read_csv('https://covid.ourworldindata.org/data/owid-covid-data.csv', sep=',', parse_dates=[3], infer_datetime_format=True)"
   ]
  },
  {
   "cell_type": "code",
   "execution_count": 21,
   "id": "4ef24a10",
   "metadata": {
    "execution": {
     "iopub.execute_input": "2023-11-22T03:24:47.708789Z",
     "iopub.status.busy": "2023-11-22T03:24:47.708378Z",
     "iopub.status.idle": "2023-11-22T03:24:47.735151Z",
     "shell.execute_reply": "2023-11-22T03:24:47.734348Z"
    },
    "id": "UCLtev1dUnuY",
    "outputId": "02273c7c-eb4d-48a1-e352-3b9768860711",
    "papermill": {
     "duration": 0.04898,
     "end_time": "2023-11-22T03:24:47.737276",
     "exception": false,
     "start_time": "2023-11-22T03:24:47.688296",
     "status": "completed"
    },
    "tags": []
   },
   "outputs": [
    {
     "data": {
      "text/html": [
       "<div>\n",
       "<style scoped>\n",
       "    .dataframe tbody tr th:only-of-type {\n",
       "        vertical-align: middle;\n",
       "    }\n",
       "\n",
       "    .dataframe tbody tr th {\n",
       "        vertical-align: top;\n",
       "    }\n",
       "\n",
       "    .dataframe thead th {\n",
       "        text-align: right;\n",
       "    }\n",
       "</style>\n",
       "<table border=\"1\" class=\"dataframe\">\n",
       "  <thead>\n",
       "    <tr style=\"text-align: right;\">\n",
       "      <th></th>\n",
       "      <th>iso_code</th>\n",
       "      <th>continent</th>\n",
       "      <th>location</th>\n",
       "      <th>date</th>\n",
       "      <th>total_cases</th>\n",
       "      <th>new_cases</th>\n",
       "      <th>new_cases_smoothed</th>\n",
       "      <th>total_deaths</th>\n",
       "      <th>new_deaths</th>\n",
       "      <th>new_deaths_smoothed</th>\n",
       "      <th>...</th>\n",
       "      <th>male_smokers</th>\n",
       "      <th>handwashing_facilities</th>\n",
       "      <th>hospital_beds_per_thousand</th>\n",
       "      <th>life_expectancy</th>\n",
       "      <th>human_development_index</th>\n",
       "      <th>population</th>\n",
       "      <th>excess_mortality_cumulative_absolute</th>\n",
       "      <th>excess_mortality_cumulative</th>\n",
       "      <th>excess_mortality</th>\n",
       "      <th>excess_mortality_cumulative_per_million</th>\n",
       "    </tr>\n",
       "  </thead>\n",
       "  <tbody>\n",
       "    <tr>\n",
       "      <th>0</th>\n",
       "      <td>AFG</td>\n",
       "      <td>Asia</td>\n",
       "      <td>Afghanistan</td>\n",
       "      <td>2020-01-03</td>\n",
       "      <td>NaN</td>\n",
       "      <td>0.0</td>\n",
       "      <td>NaN</td>\n",
       "      <td>NaN</td>\n",
       "      <td>0.0</td>\n",
       "      <td>NaN</td>\n",
       "      <td>...</td>\n",
       "      <td>NaN</td>\n",
       "      <td>37.746</td>\n",
       "      <td>0.5</td>\n",
       "      <td>64.83</td>\n",
       "      <td>0.511</td>\n",
       "      <td>41128772.0</td>\n",
       "      <td>NaN</td>\n",
       "      <td>NaN</td>\n",
       "      <td>NaN</td>\n",
       "      <td>NaN</td>\n",
       "    </tr>\n",
       "    <tr>\n",
       "      <th>1</th>\n",
       "      <td>AFG</td>\n",
       "      <td>Asia</td>\n",
       "      <td>Afghanistan</td>\n",
       "      <td>2020-01-04</td>\n",
       "      <td>NaN</td>\n",
       "      <td>0.0</td>\n",
       "      <td>NaN</td>\n",
       "      <td>NaN</td>\n",
       "      <td>0.0</td>\n",
       "      <td>NaN</td>\n",
       "      <td>...</td>\n",
       "      <td>NaN</td>\n",
       "      <td>37.746</td>\n",
       "      <td>0.5</td>\n",
       "      <td>64.83</td>\n",
       "      <td>0.511</td>\n",
       "      <td>41128772.0</td>\n",
       "      <td>NaN</td>\n",
       "      <td>NaN</td>\n",
       "      <td>NaN</td>\n",
       "      <td>NaN</td>\n",
       "    </tr>\n",
       "    <tr>\n",
       "      <th>2</th>\n",
       "      <td>AFG</td>\n",
       "      <td>Asia</td>\n",
       "      <td>Afghanistan</td>\n",
       "      <td>2020-01-05</td>\n",
       "      <td>NaN</td>\n",
       "      <td>0.0</td>\n",
       "      <td>NaN</td>\n",
       "      <td>NaN</td>\n",
       "      <td>0.0</td>\n",
       "      <td>NaN</td>\n",
       "      <td>...</td>\n",
       "      <td>NaN</td>\n",
       "      <td>37.746</td>\n",
       "      <td>0.5</td>\n",
       "      <td>64.83</td>\n",
       "      <td>0.511</td>\n",
       "      <td>41128772.0</td>\n",
       "      <td>NaN</td>\n",
       "      <td>NaN</td>\n",
       "      <td>NaN</td>\n",
       "      <td>NaN</td>\n",
       "    </tr>\n",
       "    <tr>\n",
       "      <th>3</th>\n",
       "      <td>AFG</td>\n",
       "      <td>Asia</td>\n",
       "      <td>Afghanistan</td>\n",
       "      <td>2020-01-06</td>\n",
       "      <td>NaN</td>\n",
       "      <td>0.0</td>\n",
       "      <td>NaN</td>\n",
       "      <td>NaN</td>\n",
       "      <td>0.0</td>\n",
       "      <td>NaN</td>\n",
       "      <td>...</td>\n",
       "      <td>NaN</td>\n",
       "      <td>37.746</td>\n",
       "      <td>0.5</td>\n",
       "      <td>64.83</td>\n",
       "      <td>0.511</td>\n",
       "      <td>41128772.0</td>\n",
       "      <td>NaN</td>\n",
       "      <td>NaN</td>\n",
       "      <td>NaN</td>\n",
       "      <td>NaN</td>\n",
       "    </tr>\n",
       "    <tr>\n",
       "      <th>4</th>\n",
       "      <td>AFG</td>\n",
       "      <td>Asia</td>\n",
       "      <td>Afghanistan</td>\n",
       "      <td>2020-01-07</td>\n",
       "      <td>NaN</td>\n",
       "      <td>0.0</td>\n",
       "      <td>NaN</td>\n",
       "      <td>NaN</td>\n",
       "      <td>0.0</td>\n",
       "      <td>NaN</td>\n",
       "      <td>...</td>\n",
       "      <td>NaN</td>\n",
       "      <td>37.746</td>\n",
       "      <td>0.5</td>\n",
       "      <td>64.83</td>\n",
       "      <td>0.511</td>\n",
       "      <td>41128772.0</td>\n",
       "      <td>NaN</td>\n",
       "      <td>NaN</td>\n",
       "      <td>NaN</td>\n",
       "      <td>NaN</td>\n",
       "    </tr>\n",
       "  </tbody>\n",
       "</table>\n",
       "<p>5 rows × 67 columns</p>\n",
       "</div>"
      ],
      "text/plain": [
       "  iso_code continent     location       date  total_cases  new_cases  \\\n",
       "0      AFG      Asia  Afghanistan 2020-01-03          NaN        0.0   \n",
       "1      AFG      Asia  Afghanistan 2020-01-04          NaN        0.0   \n",
       "2      AFG      Asia  Afghanistan 2020-01-05          NaN        0.0   \n",
       "3      AFG      Asia  Afghanistan 2020-01-06          NaN        0.0   \n",
       "4      AFG      Asia  Afghanistan 2020-01-07          NaN        0.0   \n",
       "\n",
       "   new_cases_smoothed  total_deaths  new_deaths  new_deaths_smoothed  ...  \\\n",
       "0                 NaN           NaN         0.0                  NaN  ...   \n",
       "1                 NaN           NaN         0.0                  NaN  ...   \n",
       "2                 NaN           NaN         0.0                  NaN  ...   \n",
       "3                 NaN           NaN         0.0                  NaN  ...   \n",
       "4                 NaN           NaN         0.0                  NaN  ...   \n",
       "\n",
       "   male_smokers  handwashing_facilities  hospital_beds_per_thousand  \\\n",
       "0           NaN                  37.746                         0.5   \n",
       "1           NaN                  37.746                         0.5   \n",
       "2           NaN                  37.746                         0.5   \n",
       "3           NaN                  37.746                         0.5   \n",
       "4           NaN                  37.746                         0.5   \n",
       "\n",
       "   life_expectancy  human_development_index  population  \\\n",
       "0            64.83                    0.511  41128772.0   \n",
       "1            64.83                    0.511  41128772.0   \n",
       "2            64.83                    0.511  41128772.0   \n",
       "3            64.83                    0.511  41128772.0   \n",
       "4            64.83                    0.511  41128772.0   \n",
       "\n",
       "   excess_mortality_cumulative_absolute  excess_mortality_cumulative  \\\n",
       "0                                   NaN                          NaN   \n",
       "1                                   NaN                          NaN   \n",
       "2                                   NaN                          NaN   \n",
       "3                                   NaN                          NaN   \n",
       "4                                   NaN                          NaN   \n",
       "\n",
       "   excess_mortality  excess_mortality_cumulative_per_million  \n",
       "0               NaN                                      NaN  \n",
       "1               NaN                                      NaN  \n",
       "2               NaN                                      NaN  \n",
       "3               NaN                                      NaN  \n",
       "4               NaN                                      NaN  \n",
       "\n",
       "[5 rows x 67 columns]"
      ]
     },
     "execution_count": 21,
     "metadata": {},
     "output_type": "execute_result"
    }
   ],
   "source": [
    "vaccines.head()"
   ]
  },
  {
   "cell_type": "markdown",
   "id": "6a9ba3a4",
   "metadata": {
    "id": "ImybLrrgRS4v",
    "papermill": {
     "duration": 0.01775,
     "end_time": "2023-11-22T03:24:47.773129",
     "exception": false,
     "start_time": "2023-11-22T03:24:47.755379",
     "status": "completed"
    },
    "tags": []
   },
   "source": [
    "Vamos selecionar as colunas de interesse e as linhas referentes ao Brasil."
   ]
  },
  {
   "cell_type": "code",
   "execution_count": 22,
   "id": "bb4882d8",
   "metadata": {
    "execution": {
     "iopub.execute_input": "2023-11-22T03:24:47.811079Z",
     "iopub.status.busy": "2023-11-22T03:24:47.810316Z",
     "iopub.status.idle": "2023-11-22T03:24:47.831445Z",
     "shell.execute_reply": "2023-11-22T03:24:47.830678Z"
    },
    "id": "4RNfnnUZW6DY",
    "papermill": {
     "duration": 0.042613,
     "end_time": "2023-11-22T03:24:47.833728",
     "exception": false,
     "start_time": "2023-11-22T03:24:47.791115",
     "status": "completed"
    },
    "tags": []
   },
   "outputs": [],
   "source": [
    "vaccines = vaccines.query('location == \"Brazil\"').reset_index(drop=True)\n",
    "vaccines = vaccines[['location', 'population', 'total_vaccinations', 'people_vaccinated', 'people_fully_vaccinated', 'total_boosters', 'date']]"
   ]
  },
  {
   "cell_type": "code",
   "execution_count": 23,
   "id": "91fa789a",
   "metadata": {
    "execution": {
     "iopub.execute_input": "2023-11-22T03:24:47.872517Z",
     "iopub.status.busy": "2023-11-22T03:24:47.871381Z",
     "iopub.status.idle": "2023-11-22T03:24:47.885248Z",
     "shell.execute_reply": "2023-11-22T03:24:47.884048Z"
    },
    "id": "e4kmFIpkPm1s",
    "outputId": "f8844c62-1049-4b5b-8308-65c70bf5ddb0",
    "papermill": {
     "duration": 0.035343,
     "end_time": "2023-11-22T03:24:47.887410",
     "exception": false,
     "start_time": "2023-11-22T03:24:47.852067",
     "status": "completed"
    },
    "tags": []
   },
   "outputs": [
    {
     "data": {
      "text/html": [
       "<div>\n",
       "<style scoped>\n",
       "    .dataframe tbody tr th:only-of-type {\n",
       "        vertical-align: middle;\n",
       "    }\n",
       "\n",
       "    .dataframe tbody tr th {\n",
       "        vertical-align: top;\n",
       "    }\n",
       "\n",
       "    .dataframe thead th {\n",
       "        text-align: right;\n",
       "    }\n",
       "</style>\n",
       "<table border=\"1\" class=\"dataframe\">\n",
       "  <thead>\n",
       "    <tr style=\"text-align: right;\">\n",
       "      <th></th>\n",
       "      <th>location</th>\n",
       "      <th>population</th>\n",
       "      <th>total_vaccinations</th>\n",
       "      <th>people_vaccinated</th>\n",
       "      <th>people_fully_vaccinated</th>\n",
       "      <th>total_boosters</th>\n",
       "      <th>date</th>\n",
       "    </tr>\n",
       "  </thead>\n",
       "  <tbody>\n",
       "    <tr>\n",
       "      <th>0</th>\n",
       "      <td>Brazil</td>\n",
       "      <td>215313504.0</td>\n",
       "      <td>NaN</td>\n",
       "      <td>NaN</td>\n",
       "      <td>NaN</td>\n",
       "      <td>NaN</td>\n",
       "      <td>2020-01-03</td>\n",
       "    </tr>\n",
       "    <tr>\n",
       "      <th>1</th>\n",
       "      <td>Brazil</td>\n",
       "      <td>215313504.0</td>\n",
       "      <td>NaN</td>\n",
       "      <td>NaN</td>\n",
       "      <td>NaN</td>\n",
       "      <td>NaN</td>\n",
       "      <td>2020-01-04</td>\n",
       "    </tr>\n",
       "    <tr>\n",
       "      <th>2</th>\n",
       "      <td>Brazil</td>\n",
       "      <td>215313504.0</td>\n",
       "      <td>NaN</td>\n",
       "      <td>NaN</td>\n",
       "      <td>NaN</td>\n",
       "      <td>NaN</td>\n",
       "      <td>2020-01-05</td>\n",
       "    </tr>\n",
       "    <tr>\n",
       "      <th>3</th>\n",
       "      <td>Brazil</td>\n",
       "      <td>215313504.0</td>\n",
       "      <td>NaN</td>\n",
       "      <td>NaN</td>\n",
       "      <td>NaN</td>\n",
       "      <td>NaN</td>\n",
       "      <td>2020-01-06</td>\n",
       "    </tr>\n",
       "    <tr>\n",
       "      <th>4</th>\n",
       "      <td>Brazil</td>\n",
       "      <td>215313504.0</td>\n",
       "      <td>NaN</td>\n",
       "      <td>NaN</td>\n",
       "      <td>NaN</td>\n",
       "      <td>NaN</td>\n",
       "      <td>2020-01-07</td>\n",
       "    </tr>\n",
       "  </tbody>\n",
       "</table>\n",
       "</div>"
      ],
      "text/plain": [
       "  location   population  total_vaccinations  people_vaccinated  \\\n",
       "0   Brazil  215313504.0                 NaN                NaN   \n",
       "1   Brazil  215313504.0                 NaN                NaN   \n",
       "2   Brazil  215313504.0                 NaN                NaN   \n",
       "3   Brazil  215313504.0                 NaN                NaN   \n",
       "4   Brazil  215313504.0                 NaN                NaN   \n",
       "\n",
       "   people_fully_vaccinated  total_boosters       date  \n",
       "0                      NaN             NaN 2020-01-03  \n",
       "1                      NaN             NaN 2020-01-04  \n",
       "2                      NaN             NaN 2020-01-05  \n",
       "3                      NaN             NaN 2020-01-06  \n",
       "4                      NaN             NaN 2020-01-07  "
      ]
     },
     "execution_count": 23,
     "metadata": {},
     "output_type": "execute_result"
    }
   ],
   "source": [
    "vaccines.head()"
   ]
  },
  {
   "cell_type": "markdown",
   "id": "8026a024",
   "metadata": {
    "id": "ANfJty-Iff4F",
    "papermill": {
     "duration": 0.017841,
     "end_time": "2023-11-22T03:24:47.923714",
     "exception": false,
     "start_time": "2023-11-22T03:24:47.905873",
     "status": "completed"
    },
    "tags": []
   },
   "source": [
    "#### **2.2.2. Wrangling**"
   ]
  },
  {
   "cell_type": "markdown",
   "id": "62d14373",
   "metadata": {
    "id": "XVh6eEL3zSqm",
    "papermill": {
     "duration": 0.017775,
     "end_time": "2023-11-22T03:24:47.959601",
     "exception": false,
     "start_time": "2023-11-22T03:24:47.941826",
     "status": "completed"
    },
    "tags": []
   },
   "source": [
    "Vamos manipular os dados para o dashboard. O foco é em garantir uma boa granularidade e qualidade da base de dados."
   ]
  },
  {
   "cell_type": "code",
   "execution_count": 24,
   "id": "6a3b724e",
   "metadata": {
    "execution": {
     "iopub.execute_input": "2023-11-22T03:24:47.997651Z",
     "iopub.status.busy": "2023-11-22T03:24:47.996816Z",
     "iopub.status.idle": "2023-11-22T03:24:48.009846Z",
     "shell.execute_reply": "2023-11-22T03:24:48.008895Z"
    },
    "id": "zl5Elp43flYU",
    "outputId": "593270f7-d855-4de7-94da-bfef8a6bd00b",
    "papermill": {
     "duration": 0.034778,
     "end_time": "2023-11-22T03:24:48.012287",
     "exception": false,
     "start_time": "2023-11-22T03:24:47.977509",
     "status": "completed"
    },
    "tags": []
   },
   "outputs": [
    {
     "data": {
      "text/html": [
       "<div>\n",
       "<style scoped>\n",
       "    .dataframe tbody tr th:only-of-type {\n",
       "        vertical-align: middle;\n",
       "    }\n",
       "\n",
       "    .dataframe tbody tr th {\n",
       "        vertical-align: top;\n",
       "    }\n",
       "\n",
       "    .dataframe thead th {\n",
       "        text-align: right;\n",
       "    }\n",
       "</style>\n",
       "<table border=\"1\" class=\"dataframe\">\n",
       "  <thead>\n",
       "    <tr style=\"text-align: right;\">\n",
       "      <th></th>\n",
       "      <th>location</th>\n",
       "      <th>population</th>\n",
       "      <th>total_vaccinations</th>\n",
       "      <th>people_vaccinated</th>\n",
       "      <th>people_fully_vaccinated</th>\n",
       "      <th>total_boosters</th>\n",
       "      <th>date</th>\n",
       "    </tr>\n",
       "  </thead>\n",
       "  <tbody>\n",
       "    <tr>\n",
       "      <th>0</th>\n",
       "      <td>Brazil</td>\n",
       "      <td>215313504.0</td>\n",
       "      <td>NaN</td>\n",
       "      <td>NaN</td>\n",
       "      <td>NaN</td>\n",
       "      <td>NaN</td>\n",
       "      <td>2020-01-03</td>\n",
       "    </tr>\n",
       "    <tr>\n",
       "      <th>1</th>\n",
       "      <td>Brazil</td>\n",
       "      <td>215313504.0</td>\n",
       "      <td>NaN</td>\n",
       "      <td>NaN</td>\n",
       "      <td>NaN</td>\n",
       "      <td>NaN</td>\n",
       "      <td>2020-01-04</td>\n",
       "    </tr>\n",
       "    <tr>\n",
       "      <th>2</th>\n",
       "      <td>Brazil</td>\n",
       "      <td>215313504.0</td>\n",
       "      <td>NaN</td>\n",
       "      <td>NaN</td>\n",
       "      <td>NaN</td>\n",
       "      <td>NaN</td>\n",
       "      <td>2020-01-05</td>\n",
       "    </tr>\n",
       "    <tr>\n",
       "      <th>3</th>\n",
       "      <td>Brazil</td>\n",
       "      <td>215313504.0</td>\n",
       "      <td>NaN</td>\n",
       "      <td>NaN</td>\n",
       "      <td>NaN</td>\n",
       "      <td>NaN</td>\n",
       "      <td>2020-01-06</td>\n",
       "    </tr>\n",
       "    <tr>\n",
       "      <th>4</th>\n",
       "      <td>Brazil</td>\n",
       "      <td>215313504.0</td>\n",
       "      <td>NaN</td>\n",
       "      <td>NaN</td>\n",
       "      <td>NaN</td>\n",
       "      <td>NaN</td>\n",
       "      <td>2020-01-07</td>\n",
       "    </tr>\n",
       "  </tbody>\n",
       "</table>\n",
       "</div>"
      ],
      "text/plain": [
       "  location   population  total_vaccinations  people_vaccinated  \\\n",
       "0   Brazil  215313504.0                 NaN                NaN   \n",
       "1   Brazil  215313504.0                 NaN                NaN   \n",
       "2   Brazil  215313504.0                 NaN                NaN   \n",
       "3   Brazil  215313504.0                 NaN                NaN   \n",
       "4   Brazil  215313504.0                 NaN                NaN   \n",
       "\n",
       "   people_fully_vaccinated  total_boosters       date  \n",
       "0                      NaN             NaN 2020-01-03  \n",
       "1                      NaN             NaN 2020-01-04  \n",
       "2                      NaN             NaN 2020-01-05  \n",
       "3                      NaN             NaN 2020-01-06  \n",
       "4                      NaN             NaN 2020-01-07  "
      ]
     },
     "execution_count": 24,
     "metadata": {},
     "output_type": "execute_result"
    }
   ],
   "source": [
    "vaccines.head()"
   ]
  },
  {
   "cell_type": "code",
   "execution_count": 25,
   "id": "013aee42",
   "metadata": {
    "execution": {
     "iopub.execute_input": "2023-11-22T03:24:48.051582Z",
     "iopub.status.busy": "2023-11-22T03:24:48.051189Z",
     "iopub.status.idle": "2023-11-22T03:24:48.057079Z",
     "shell.execute_reply": "2023-11-22T03:24:48.056107Z"
    },
    "id": "GOH412CJflYV",
    "outputId": "23f68d21-5303-4a89-be1f-01b62ed6e62f",
    "papermill": {
     "duration": 0.027847,
     "end_time": "2023-11-22T03:24:48.059068",
     "exception": false,
     "start_time": "2023-11-22T03:24:48.031221",
     "status": "completed"
    },
    "tags": []
   },
   "outputs": [
    {
     "data": {
      "text/plain": [
       "(1414, 7)"
      ]
     },
     "execution_count": 25,
     "metadata": {},
     "output_type": "execute_result"
    }
   ],
   "source": [
    "vaccines.shape"
   ]
  },
  {
   "cell_type": "code",
   "execution_count": 26,
   "id": "0cd079d0",
   "metadata": {
    "execution": {
     "iopub.execute_input": "2023-11-22T03:24:48.097945Z",
     "iopub.status.busy": "2023-11-22T03:24:48.097560Z",
     "iopub.status.idle": "2023-11-22T03:24:48.109255Z",
     "shell.execute_reply": "2023-11-22T03:24:48.108368Z"
    },
    "id": "QV6H5gl6flYW",
    "outputId": "a5cd09ca-cde2-4ca4-e72d-95bcffa6b0e7",
    "papermill": {
     "duration": 0.033846,
     "end_time": "2023-11-22T03:24:48.111547",
     "exception": false,
     "start_time": "2023-11-22T03:24:48.077701",
     "status": "completed"
    },
    "tags": []
   },
   "outputs": [
    {
     "name": "stdout",
     "output_type": "stream",
     "text": [
      "<class 'pandas.core.frame.DataFrame'>\n",
      "RangeIndex: 1414 entries, 0 to 1413\n",
      "Data columns (total 7 columns):\n",
      " #   Column                   Non-Null Count  Dtype         \n",
      "---  ------                   --------------  -----         \n",
      " 0   location                 1414 non-null   object        \n",
      " 1   population               1414 non-null   float64       \n",
      " 2   total_vaccinations       695 non-null    float64       \n",
      " 3   people_vaccinated        691 non-null    float64       \n",
      " 4   people_fully_vaccinated  675 non-null    float64       \n",
      " 5   total_boosters           455 non-null    float64       \n",
      " 6   date                     1414 non-null   datetime64[ns]\n",
      "dtypes: datetime64[ns](1), float64(5), object(1)\n",
      "memory usage: 77.5+ KB\n"
     ]
    }
   ],
   "source": [
    "vaccines.info()"
   ]
  },
  {
   "cell_type": "markdown",
   "id": "cf0a2f65",
   "metadata": {
    "id": "L5CaqVEzzaYH",
    "papermill": {
     "duration": 0.018329,
     "end_time": "2023-11-22T03:24:48.148722",
     "exception": false,
     "start_time": "2023-11-22T03:24:48.130393",
     "status": "completed"
    },
    "tags": []
   },
   "source": [
    "Vamos começar tratando os dados faltantes, a estratégia será a de preencher os buracos com o valor anterior válido mais próximo."
   ]
  },
  {
   "cell_type": "code",
   "execution_count": 27,
   "id": "395b2c81",
   "metadata": {
    "execution": {
     "iopub.execute_input": "2023-11-22T03:24:48.189709Z",
     "iopub.status.busy": "2023-11-22T03:24:48.188674Z",
     "iopub.status.idle": "2023-11-22T03:24:48.196143Z",
     "shell.execute_reply": "2023-11-22T03:24:48.195451Z"
    },
    "id": "7UlhJa5M0fMz",
    "papermill": {
     "duration": 0.030745,
     "end_time": "2023-11-22T03:24:48.197971",
     "exception": false,
     "start_time": "2023-11-22T03:24:48.167226",
     "status": "completed"
    },
    "tags": []
   },
   "outputs": [],
   "source": [
    "vaccines = vaccines.fillna(method='ffill')"
   ]
  },
  {
   "cell_type": "markdown",
   "id": "2ac29cbc",
   "metadata": {
    "id": "GibNnv1hfe8t",
    "papermill": {
     "duration": 0.018399,
     "end_time": "2023-11-22T03:24:48.235218",
     "exception": false,
     "start_time": "2023-11-22T03:24:48.216819",
     "status": "completed"
    },
    "tags": []
   },
   "source": [
    "Vamos também filtrar a base de dados de acordo com a coluna `date` para garantir que ambas as bases de dados tratam do mesmo período de tempo."
   ]
  },
  {
   "cell_type": "code",
   "execution_count": 28,
   "id": "a601c998",
   "metadata": {
    "execution": {
     "iopub.execute_input": "2023-11-22T03:24:48.274793Z",
     "iopub.status.busy": "2023-11-22T03:24:48.273742Z",
     "iopub.status.idle": "2023-11-22T03:24:48.280771Z",
     "shell.execute_reply": "2023-11-22T03:24:48.280059Z"
    },
    "id": "bB8n5Nq0e51M",
    "papermill": {
     "duration": 0.028961,
     "end_time": "2023-11-22T03:24:48.282767",
     "exception": false,
     "start_time": "2023-11-22T03:24:48.253806",
     "status": "completed"
    },
    "tags": []
   },
   "outputs": [],
   "source": [
    "vaccines = vaccines[(vaccines['date'] >= '2021-01-01') & (vaccines['date'] <= '2021-12-31')].reset_index(drop=True)"
   ]
  },
  {
   "cell_type": "markdown",
   "id": "2e6665e4",
   "metadata": {
    "id": "HeVzXS5pzUyh",
    "papermill": {
     "duration": 0.018666,
     "end_time": "2023-11-22T03:24:48.320224",
     "exception": false,
     "start_time": "2023-11-22T03:24:48.301558",
     "status": "completed"
    },
    "tags": []
   },
   "source": [
    "Agora, vamos alterar o nome das colunas."
   ]
  },
  {
   "cell_type": "code",
   "execution_count": 29,
   "id": "fc7a818c",
   "metadata": {
    "execution": {
     "iopub.execute_input": "2023-11-22T03:24:48.359589Z",
     "iopub.status.busy": "2023-11-22T03:24:48.358979Z",
     "iopub.status.idle": "2023-11-22T03:24:48.364583Z",
     "shell.execute_reply": "2023-11-22T03:24:48.363849Z"
    },
    "id": "onD0FAQ2fuZG",
    "papermill": {
     "duration": 0.027728,
     "end_time": "2023-11-22T03:24:48.366600",
     "exception": false,
     "start_time": "2023-11-22T03:24:48.338872",
     "status": "completed"
    },
    "tags": []
   },
   "outputs": [],
   "source": [
    "vaccines = vaccines.rename(\n",
    "  columns={\n",
    "    'location': 'country',\n",
    "    'total_vaccinations': 'total',\n",
    "    'people_vaccinated': 'one_shot',\n",
    "    'people_fully_vaccinated': 'two_shots',\n",
    "    'total_boosters': 'three_shots',\n",
    "  }\n",
    ")"
   ]
  },
  {
   "cell_type": "markdown",
   "id": "95e0883e",
   "metadata": {
    "id": "3WEwZVW8zZdQ",
    "papermill": {
     "duration": 0.018231,
     "end_time": "2023-11-22T03:24:48.403711",
     "exception": false,
     "start_time": "2023-11-22T03:24:48.385480",
     "status": "completed"
    },
    "tags": []
   },
   "source": [
    "Vamos então computar novas colunas para enriquecer a base de dados."
   ]
  },
  {
   "cell_type": "markdown",
   "id": "a22b37b0",
   "metadata": {
    "id": "TtVVYdEn1xBu",
    "papermill": {
     "duration": 0.018234,
     "end_time": "2023-11-22T03:24:48.440423",
     "exception": false,
     "start_time": "2023-11-22T03:24:48.422189",
     "status": "completed"
    },
    "tags": []
   },
   "source": [
    " - Chaves temporais:"
   ]
  },
  {
   "cell_type": "code",
   "execution_count": 30,
   "id": "ee03eac4",
   "metadata": {
    "execution": {
     "iopub.execute_input": "2023-11-22T03:24:48.479700Z",
     "iopub.status.busy": "2023-11-22T03:24:48.479056Z",
     "iopub.status.idle": "2023-11-22T03:24:48.489738Z",
     "shell.execute_reply": "2023-11-22T03:24:48.488931Z"
    },
    "id": "69n_u8z-fuZI",
    "papermill": {
     "duration": 0.032952,
     "end_time": "2023-11-22T03:24:48.491967",
     "exception": false,
     "start_time": "2023-11-22T03:24:48.459015",
     "status": "completed"
    },
    "tags": []
   },
   "outputs": [],
   "source": [
    "vaccines['month'] = vaccines['date'].apply(lambda date: date.strftime('%Y-%m'))\n",
    "vaccines['year']  = vaccines['date'].apply(lambda date: date.strftime('%Y'))"
   ]
  },
  {
   "cell_type": "markdown",
   "id": "fd1d6f28",
   "metadata": {
    "id": "RToFxe8s13WZ",
    "papermill": {
     "duration": 0.018205,
     "end_time": "2023-11-22T03:24:48.528962",
     "exception": false,
     "start_time": "2023-11-22T03:24:48.510757",
     "status": "completed"
    },
    "tags": []
   },
   "source": [
    " - Dados relativos:"
   ]
  },
  {
   "cell_type": "code",
   "execution_count": 31,
   "id": "661fa1c9",
   "metadata": {
    "execution": {
     "iopub.execute_input": "2023-11-22T03:24:48.568070Z",
     "iopub.status.busy": "2023-11-22T03:24:48.567416Z",
     "iopub.status.idle": "2023-11-22T03:24:48.575026Z",
     "shell.execute_reply": "2023-11-22T03:24:48.574265Z"
    },
    "id": "0p5fH8yI160u",
    "papermill": {
     "duration": 0.029534,
     "end_time": "2023-11-22T03:24:48.576954",
     "exception": false,
     "start_time": "2023-11-22T03:24:48.547420",
     "status": "completed"
    },
    "tags": []
   },
   "outputs": [],
   "source": [
    "vaccines['one_shot_perc'] = round(vaccines['one_shot'] / vaccines['population'], 4)\n",
    "vaccines['two_shots_perc'] = round(vaccines['two_shots'] / vaccines['population'], 4)\n",
    "vaccines['three_shots_perc'] = round(vaccines['three_shots'] / vaccines['population'], 4)"
   ]
  },
  {
   "cell_type": "markdown",
   "id": "f3145b11",
   "metadata": {
    "id": "AwBPeUoH018t",
    "papermill": {
     "duration": 0.018349,
     "end_time": "2023-11-22T03:24:48.613885",
     "exception": false,
     "start_time": "2023-11-22T03:24:48.595536",
     "status": "completed"
    },
    "tags": []
   },
   "source": [
    "Garantir o tipo do dado é fundamental para consistência da base de dados. Vamos fazer o *type casting* das colunas."
   ]
  },
  {
   "cell_type": "code",
   "execution_count": 32,
   "id": "ddfb325d",
   "metadata": {
    "execution": {
     "iopub.execute_input": "2023-11-22T03:24:48.653458Z",
     "iopub.status.busy": "2023-11-22T03:24:48.652837Z",
     "iopub.status.idle": "2023-11-22T03:24:48.661888Z",
     "shell.execute_reply": "2023-11-22T03:24:48.661186Z"
    },
    "id": "bkebNuXF024g",
    "papermill": {
     "duration": 0.031145,
     "end_time": "2023-11-22T03:24:48.663873",
     "exception": false,
     "start_time": "2023-11-22T03:24:48.632728",
     "status": "completed"
    },
    "tags": []
   },
   "outputs": [],
   "source": [
    "vaccines['population'] = vaccines['population'].astype('Int64')\n",
    "vaccines['total'] = vaccines['total'].astype('Int64')\n",
    "vaccines['one_shot'] = vaccines['one_shot'].astype('Int64')\n",
    "vaccines['two_shots'] = vaccines['two_shots'].astype('Int64')\n",
    "vaccines['three_shots'] = vaccines['three_shots'].astype('Int64')"
   ]
  },
  {
   "cell_type": "markdown",
   "id": "0cd63cd1",
   "metadata": {
    "id": "R8s4jBC4gUrq",
    "papermill": {
     "duration": 0.018131,
     "end_time": "2023-11-22T03:24:48.700787",
     "exception": false,
     "start_time": "2023-11-22T03:24:48.682656",
     "status": "completed"
    },
    "tags": []
   },
   "source": [
    "Por fim, vamos reorganizar as colunas e conferir o resultado final."
   ]
  },
  {
   "cell_type": "code",
   "execution_count": 33,
   "id": "c03413ed",
   "metadata": {
    "execution": {
     "iopub.execute_input": "2023-11-22T03:24:48.739754Z",
     "iopub.status.busy": "2023-11-22T03:24:48.739126Z",
     "iopub.status.idle": "2023-11-22T03:24:48.745313Z",
     "shell.execute_reply": "2023-11-22T03:24:48.744614Z"
    },
    "id": "GRqAQTFxfuZJ",
    "papermill": {
     "duration": 0.028132,
     "end_time": "2023-11-22T03:24:48.747294",
     "exception": false,
     "start_time": "2023-11-22T03:24:48.719162",
     "status": "completed"
    },
    "tags": []
   },
   "outputs": [],
   "source": [
    "vaccines = vaccines[['date', 'country', 'population', 'total', 'one_shot', 'one_shot_perc', 'two_shots', 'two_shots_perc', 'three_shots', 'three_shots_perc', 'month', 'year']]"
   ]
  },
  {
   "cell_type": "code",
   "execution_count": 34,
   "id": "37558dfc",
   "metadata": {
    "execution": {
     "iopub.execute_input": "2023-11-22T03:24:48.786599Z",
     "iopub.status.busy": "2023-11-22T03:24:48.786203Z",
     "iopub.status.idle": "2023-11-22T03:24:48.804077Z",
     "shell.execute_reply": "2023-11-22T03:24:48.802981Z"
    },
    "id": "RqeuGtCPzXmj",
    "outputId": "1346a3ce-7a5f-4ba5-e6d7-5c3398f5ebf1",
    "papermill": {
     "duration": 0.040393,
     "end_time": "2023-11-22T03:24:48.806485",
     "exception": false,
     "start_time": "2023-11-22T03:24:48.766092",
     "status": "completed"
    },
    "tags": []
   },
   "outputs": [
    {
     "data": {
      "text/html": [
       "<div>\n",
       "<style scoped>\n",
       "    .dataframe tbody tr th:only-of-type {\n",
       "        vertical-align: middle;\n",
       "    }\n",
       "\n",
       "    .dataframe tbody tr th {\n",
       "        vertical-align: top;\n",
       "    }\n",
       "\n",
       "    .dataframe thead th {\n",
       "        text-align: right;\n",
       "    }\n",
       "</style>\n",
       "<table border=\"1\" class=\"dataframe\">\n",
       "  <thead>\n",
       "    <tr style=\"text-align: right;\">\n",
       "      <th></th>\n",
       "      <th>date</th>\n",
       "      <th>country</th>\n",
       "      <th>population</th>\n",
       "      <th>total</th>\n",
       "      <th>one_shot</th>\n",
       "      <th>one_shot_perc</th>\n",
       "      <th>two_shots</th>\n",
       "      <th>two_shots_perc</th>\n",
       "      <th>three_shots</th>\n",
       "      <th>three_shots_perc</th>\n",
       "      <th>month</th>\n",
       "      <th>year</th>\n",
       "    </tr>\n",
       "  </thead>\n",
       "  <tbody>\n",
       "    <tr>\n",
       "      <th>360</th>\n",
       "      <td>2021-12-27</td>\n",
       "      <td>Brazil</td>\n",
       "      <td>215313504</td>\n",
       "      <td>329011365</td>\n",
       "      <td>165952037</td>\n",
       "      <td>0.7707</td>\n",
       "      <td>142764283</td>\n",
       "      <td>0.6631</td>\n",
       "      <td>25218893</td>\n",
       "      <td>0.1171</td>\n",
       "      <td>2021-12</td>\n",
       "      <td>2021</td>\n",
       "    </tr>\n",
       "    <tr>\n",
       "      <th>361</th>\n",
       "      <td>2021-12-28</td>\n",
       "      <td>Brazil</td>\n",
       "      <td>215313504</td>\n",
       "      <td>329861730</td>\n",
       "      <td>166062249</td>\n",
       "      <td>0.7713</td>\n",
       "      <td>142965728</td>\n",
       "      <td>0.6640</td>\n",
       "      <td>25758909</td>\n",
       "      <td>0.1196</td>\n",
       "      <td>2021-12</td>\n",
       "      <td>2021</td>\n",
       "    </tr>\n",
       "    <tr>\n",
       "      <th>362</th>\n",
       "      <td>2021-12-29</td>\n",
       "      <td>Brazil</td>\n",
       "      <td>215313504</td>\n",
       "      <td>330718457</td>\n",
       "      <td>166143380</td>\n",
       "      <td>0.7716</td>\n",
       "      <td>143282084</td>\n",
       "      <td>0.6655</td>\n",
       "      <td>26219623</td>\n",
       "      <td>0.1218</td>\n",
       "      <td>2021-12</td>\n",
       "      <td>2021</td>\n",
       "    </tr>\n",
       "    <tr>\n",
       "      <th>363</th>\n",
       "      <td>2021-12-30</td>\n",
       "      <td>Brazil</td>\n",
       "      <td>215313504</td>\n",
       "      <td>331164041</td>\n",
       "      <td>166185628</td>\n",
       "      <td>0.7718</td>\n",
       "      <td>143398692</td>\n",
       "      <td>0.6660</td>\n",
       "      <td>26507937</td>\n",
       "      <td>0.1231</td>\n",
       "      <td>2021-12</td>\n",
       "      <td>2021</td>\n",
       "    </tr>\n",
       "    <tr>\n",
       "      <th>364</th>\n",
       "      <td>2021-12-31</td>\n",
       "      <td>Brazil</td>\n",
       "      <td>215313504</td>\n",
       "      <td>331273910</td>\n",
       "      <td>166195505</td>\n",
       "      <td>0.7719</td>\n",
       "      <td>143436012</td>\n",
       "      <td>0.6662</td>\n",
       "      <td>26571077</td>\n",
       "      <td>0.1234</td>\n",
       "      <td>2021-12</td>\n",
       "      <td>2021</td>\n",
       "    </tr>\n",
       "  </tbody>\n",
       "</table>\n",
       "</div>"
      ],
      "text/plain": [
       "          date country  population      total   one_shot  one_shot_perc  \\\n",
       "360 2021-12-27  Brazil   215313504  329011365  165952037         0.7707   \n",
       "361 2021-12-28  Brazil   215313504  329861730  166062249         0.7713   \n",
       "362 2021-12-29  Brazil   215313504  330718457  166143380         0.7716   \n",
       "363 2021-12-30  Brazil   215313504  331164041  166185628         0.7718   \n",
       "364 2021-12-31  Brazil   215313504  331273910  166195505         0.7719   \n",
       "\n",
       "     two_shots  two_shots_perc  three_shots  three_shots_perc    month  year  \n",
       "360  142764283          0.6631     25218893            0.1171  2021-12  2021  \n",
       "361  142965728          0.6640     25758909            0.1196  2021-12  2021  \n",
       "362  143282084          0.6655     26219623            0.1218  2021-12  2021  \n",
       "363  143398692          0.6660     26507937            0.1231  2021-12  2021  \n",
       "364  143436012          0.6662     26571077            0.1234  2021-12  2021  "
      ]
     },
     "execution_count": 34,
     "metadata": {},
     "output_type": "execute_result"
    }
   ],
   "source": [
    "vaccines.tail()"
   ]
  },
  {
   "cell_type": "markdown",
   "id": "0777cfae",
   "metadata": {
    "id": "yhTcLXpaV5-F",
    "papermill": {
     "duration": 0.018618,
     "end_time": "2023-11-22T03:24:48.844317",
     "exception": false,
     "start_time": "2023-11-22T03:24:48.825699",
     "status": "completed"
    },
    "tags": []
   },
   "source": [
    "#### **2.2.3. Carregamento**"
   ]
  },
  {
   "cell_type": "markdown",
   "id": "f77531c7",
   "metadata": {
    "id": "ciQaKaE8WDYL",
    "papermill": {
     "duration": 0.019015,
     "end_time": "2023-11-22T03:24:48.883233",
     "exception": false,
     "start_time": "2023-11-22T03:24:48.864218",
     "status": "completed"
    },
    "tags": []
   },
   "source": [
    "Com os dados manipulados, vamos persisti-lo em disco, fazer o seu download e carrega-lo no Google Data Studio."
   ]
  },
  {
   "cell_type": "code",
   "execution_count": 35,
   "id": "3c684337",
   "metadata": {
    "execution": {
     "iopub.execute_input": "2023-11-22T03:24:48.922728Z",
     "iopub.status.busy": "2023-11-22T03:24:48.922273Z",
     "iopub.status.idle": "2023-11-22T03:24:48.932482Z",
     "shell.execute_reply": "2023-11-22T03:24:48.931656Z"
    },
    "id": "ur-OHsXIWN_-",
    "papermill": {
     "duration": 0.032416,
     "end_time": "2023-11-22T03:24:48.934447",
     "exception": false,
     "start_time": "2023-11-22T03:24:48.902031",
     "status": "completed"
    },
    "tags": []
   },
   "outputs": [],
   "source": [
    "vaccines.to_csv('./covid-vaccines.csv', sep=',', index=False)"
   ]
  },
  {
   "cell_type": "markdown",
   "id": "e35e0b58",
   "metadata": {
    "id": "PD0FiM7UJOGT",
    "papermill": {
     "duration": 0.018637,
     "end_time": "2023-11-22T03:24:48.972052",
     "exception": false,
     "start_time": "2023-11-22T03:24:48.953415",
     "status": "completed"
    },
    "tags": []
   },
   "source": [
    "## 3\\. Exploração Interativa de Dados"
   ]
  },
  {
   "cell_type": "markdown",
   "id": "ffb5a6c9",
   "metadata": {
    "id": "AAwJC4RyS0xa",
    "papermill": {
     "duration": 0.018442,
     "end_time": "2023-11-22T03:24:49.009157",
     "exception": false,
     "start_time": "2023-11-22T03:24:48.990715",
     "status": "completed"
    },
    "tags": []
   },
   "source": [
    "### **3.1. KPIs**"
   ]
  },
  {
   "cell_type": "markdown",
   "id": "5c7a2828",
   "metadata": {
    "id": "9LIHnwDuiN47",
    "papermill": {
     "duration": 0.018849,
     "end_time": "2023-11-22T03:24:49.046747",
     "exception": false,
     "start_time": "2023-11-22T03:24:49.027898",
     "status": "completed"
    },
    "tags": []
   },
   "source": [
    "O dashboard de dados contem os seguintes indicadores chaves de desempenho (*key performance indicator* ou KPI) consolidados:"
   ]
  },
  {
   "cell_type": "markdown",
   "id": "43f80c85",
   "metadata": {
    "id": "rllIx255dOOu",
    "papermill": {
     "duration": 0.018299,
     "end_time": "2023-11-22T03:24:49.083694",
     "exception": false,
     "start_time": "2023-11-22T03:24:49.065395",
     "status": "completed"
    },
    "tags": []
   },
   "source": [
    "1. Casos e mortes nas 24 horas;\n",
    "1. Média móvel (7 dias) de casos e mortes;\n",
    "1. Tendência de casos e mortes;\n",
    "1. Proporção de vacinados com 1ª, 2ª e 3ª doses."
   ]
  },
  {
   "cell_type": "markdown",
   "id": "a6098023",
   "metadata": {
    "id": "QGWv8lw5YdUC",
    "papermill": {
     "duration": 0.018445,
     "end_time": "2023-11-22T03:24:49.120814",
     "exception": false,
     "start_time": "2023-11-22T03:24:49.102369",
     "status": "completed"
    },
    "tags": []
   },
   "source": [
    "### **3.2. EDA**"
   ]
  },
  {
   "cell_type": "markdown",
   "id": "c792435f",
   "metadata": {
    "id": "AZPbGM3cdOyi",
    "papermill": {
     "duration": 0.018244,
     "end_time": "2023-11-22T03:24:49.157542",
     "exception": false,
     "start_time": "2023-11-22T03:24:49.139298",
     "status": "completed"
    },
    "tags": []
   },
   "source": [
    "O dashboard de dados contem os seguintes gráficos para a análise exploratória de dados (*exploratory data analysis*\n",
    "ou EDA) interativa:"
   ]
  },
  {
   "cell_type": "markdown",
   "id": "218becef",
   "metadata": {
    "id": "QuzfB5PmYjS9",
    "papermill": {
     "duration": 0.020771,
     "end_time": "2023-11-22T03:24:49.196952",
     "exception": false,
     "start_time": "2023-11-22T03:24:49.176181",
     "status": "completed"
    },
    "tags": []
   },
   "source": [
    "1. Distribuição do números de casos e mortes ao longo do tempo;\n",
    "1. Distribuição da média móvel (7 dias) do números de casos e mortes ao longo do tempo;\n",
    "1. Distribuição geográfica dos casos por estado por dia."
   ]
  }
 ],
 "metadata": {
  "colab": {
   "provenance": []
  },
  "kaggle": {
   "accelerator": "none",
   "dataSources": [],
   "dockerImageVersionId": 30587,
   "isGpuEnabled": false,
   "isInternetEnabled": true,
   "language": "python",
   "sourceType": "notebook"
  },
  "kernelspec": {
   "display_name": "Python 3",
   "language": "python",
   "name": "python3"
  },
  "language_info": {
   "codemirror_mode": {
    "name": "ipython",
    "version": 3
   },
   "file_extension": ".py",
   "mimetype": "text/x-python",
   "name": "python",
   "nbconvert_exporter": "python",
   "pygments_lexer": "ipython3",
   "version": "3.10.12"
  },
  "papermill": {
   "default_parameters": {},
   "duration": 99.375248,
   "end_time": "2023-11-22T03:24:49.634536",
   "environment_variables": {},
   "exception": null,
   "input_path": "__notebook__.ipynb",
   "output_path": "__notebook__.ipynb",
   "parameters": {},
   "start_time": "2023-11-22T03:23:10.259288",
   "version": "2.4.0"
  }
 },
 "nbformat": 4,
 "nbformat_minor": 5
}
